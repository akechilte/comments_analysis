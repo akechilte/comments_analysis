{
 "cells": [
  {
   "cell_type": "markdown",
   "metadata": {},
   "source": [
    "### Load the model and make prediction\n",
    "##### Input Args:\n",
    "\n",
    "doc_dir = directory where the file with comments to be predicted\n",
    "\n",
    "doc2vec_model_name = doc2vec model already trained\n",
    "\n",
    "trained_clf = Trained classifier\n"
   ]
  },
  {
   "cell_type": "code",
   "execution_count": 2,
   "metadata": {
    "collapsed": true
   },
   "outputs": [],
   "source": [
    "from gensim.models import Doc2Vec\n",
    "import re\n",
    "import os\n",
    "import random\n",
    "from sklearn import metrics\n",
    "import numpy as np\n",
    "import pandas as pd\n",
    "from sklearn.externals import joblib\n",
    "from sklearn.metrics.pairwise import cosine_similarity\n",
    "import pickle"
   ]
  },
  {
   "cell_type": "code",
   "execution_count": 3,
   "metadata": {
    "collapsed": true
   },
   "outputs": [],
   "source": [
    "import warnings\n",
    "warnings.simplefilter(action='ignore', category=FutureWarning)"
   ]
  },
  {
   "cell_type": "code",
   "execution_count": 4,
   "metadata": {
    "collapsed": true
   },
   "outputs": [],
   "source": [
    "def extract_words(sent):\n",
    "    #print(\"line tokenizing : \\n{0}\".format(sent))\n",
    "    sent = sent.lower()\n",
    "    sent = re.sub(r'<[^>]+>', ' ', sent) #strip html tags\n",
    "    sent = re.sub(r'(\\w)\\'(\\w)', '\\1\\2', sent) # remoce apostrophes\n",
    "    sent = re.sub(r'\\W',' ', sent) # remove punctuation\n",
    "    sent = re.sub(r'\\s+', ' ', sent) # remove repeated space\n",
    "    sent = sent.strip()\n",
    "    return sent.split()"
   ]
  },
  {
   "cell_type": "code",
   "execution_count": 5,
   "metadata": {},
   "outputs": [],
   "source": [
    "#Load doc to vec model\n",
    "doc2vec_model_name = 'reviews.d2v'\n",
    "doc2vec_model = Doc2Vec.load(doc2vec_model_name)"
   ]
  },
  {
   "cell_type": "code",
   "execution_count": 6,
   "metadata": {},
   "outputs": [
    {
     "data": {
      "text/plain": [
       "array([[0.73956066]], dtype=float32)"
      ]
     },
     "execution_count": 6,
     "metadata": {},
     "output_type": "execute_result"
    }
   ],
   "source": [
    "#Test the trained doc2vec model\n",
    "cosine_similarity(\n",
    "[doc2vec_model.infer_vector(extract_words(\"This is very bad video. I don't like it\"))],\n",
    "[doc2vec_model.infer_vector(extract_words(\"video sucks.\"))])"
   ]
  },
  {
   "cell_type": "code",
   "execution_count": 8,
   "metadata": {
    "collapsed": true
   },
   "outputs": [],
   "source": [
    "#Converts the comments to vector using doc2vec model trianed earlier\n",
    "def get_doc2vec(model, doc_dir,comment_col_name='Comment'):\n",
    "    comments_dfs = []\n",
    "    \n",
    "    for fname in sorted(os.listdir(doc_dir)):\n",
    "        fname_full = doc_dir + \"/\" + fname\n",
    "        print(\"file being read : {0}\".format(fname_full))\n",
    "        data = pd.read_csv(fname_full, sep='\\t', header='infer')\n",
    "        data['FNAME'] = fname\n",
    "        data['WORDS'] = data[comment_col_name].map(lambda x: extract_words(x))\n",
    "        data['SENTVECS'] = data['WORDS'].map(lambda x: model.infer_vector(x, steps=10))\n",
    "        comments_dfs.append(data)\n",
    "\n",
    "    comments = pd.concat(comments_dfs)\n",
    "    return comments"
   ]
  },
  {
   "cell_type": "code",
   "execution_count": 9,
   "metadata": {},
   "outputs": [
    {
     "name": "stdout",
     "output_type": "stream",
     "text": [
      "files being read : ../indata/samsung-vr.csv\n",
      "files being read : ../indata/tswift.csv\n"
     ]
    }
   ],
   "source": [
    "doc_dir = \"../indata\"\n",
    "comments = get_doc2vec(doc2vec_model, doc_dir)"
   ]
  },
  {
   "cell_type": "code",
   "execution_count": 10,
   "metadata": {},
   "outputs": [
    {
     "data": {
      "text/html": [
       "<div>\n",
       "<style>\n",
       "    .dataframe thead tr:only-child th {\n",
       "        text-align: right;\n",
       "    }\n",
       "\n",
       "    .dataframe thead th {\n",
       "        text-align: left;\n",
       "    }\n",
       "\n",
       "    .dataframe tbody tr th {\n",
       "        vertical-align: top;\n",
       "    }\n",
       "</style>\n",
       "<table border=\"1\" class=\"dataframe\">\n",
       "  <thead>\n",
       "    <tr style=\"text-align: right;\">\n",
       "      <th></th>\n",
       "      <th>Comment</th>\n",
       "      <th>CreateTimeStamp</th>\n",
       "      <th>Type</th>\n",
       "      <th>videoID</th>\n",
       "      <th>FNAME</th>\n",
       "      <th>WORDS</th>\n",
       "      <th>SENTVECS</th>\n",
       "    </tr>\n",
       "  </thead>\n",
       "  <tbody>\n",
       "    <tr>\n",
       "      <th>0</th>\n",
       "      <td>I ll just leave this right here</td>\n",
       "      <td>2017-07-27T19:00:40.000Z</td>\n",
       "      <td>Comment</td>\n",
       "      <td>jBcHv3h1pHs</td>\n",
       "      <td>samsung-vr.csv</td>\n",
       "      <td>[i, ll, just, leave, this, right, here]</td>\n",
       "      <td>[0.1917683, 0.15611713, 0.3199824, 0.051351413...</td>\n",
       "    </tr>\n",
       "    <tr>\n",
       "      <th>1</th>\n",
       "      <td>How does sound work</td>\n",
       "      <td>2018-11-30T13:18:40.000Z</td>\n",
       "      <td>Comment</td>\n",
       "      <td>jBcHv3h1pHs</td>\n",
       "      <td>samsung-vr.csv</td>\n",
       "      <td>[how, does, sound, work]</td>\n",
       "      <td>[-0.095913, 0.2271512, 0.16931242, -0.20964487...</td>\n",
       "    </tr>\n",
       "    <tr>\n",
       "      <th>2</th>\n",
       "      <td>hey</td>\n",
       "      <td>2018-11-29T04:51:42.000Z</td>\n",
       "      <td>Comment</td>\n",
       "      <td>jBcHv3h1pHs</td>\n",
       "      <td>samsung-vr.csv</td>\n",
       "      <td>[hey]</td>\n",
       "      <td>[-0.0030196828, 0.13162734, 0.047134276, -0.08...</td>\n",
       "    </tr>\n",
       "    <tr>\n",
       "      <th>3</th>\n",
       "      <td>Whats the song in the beginning</td>\n",
       "      <td>2018-11-23T20:46:13.000Z</td>\n",
       "      <td>Comment</td>\n",
       "      <td>jBcHv3h1pHs</td>\n",
       "      <td>samsung-vr.csv</td>\n",
       "      <td>[whats, the, song, in, the, beginning]</td>\n",
       "      <td>[0.4138912, 0.23341818, 0.054907303, -0.089427...</td>\n",
       "    </tr>\n",
       "    <tr>\n",
       "      <th>4</th>\n",
       "      <td>Can t compete with a PS VR</td>\n",
       "      <td>2018-11-21T10:54:45.000Z</td>\n",
       "      <td>Comment</td>\n",
       "      <td>jBcHv3h1pHs</td>\n",
       "      <td>samsung-vr.csv</td>\n",
       "      <td>[can, t, compete, with, a, ps, vr]</td>\n",
       "      <td>[-0.080483355, 0.07329093, 0.14160651, 0.01256...</td>\n",
       "    </tr>\n",
       "  </tbody>\n",
       "</table>\n",
       "</div>"
      ],
      "text/plain": [
       "                           Comment           CreateTimeStamp     Type  \\\n",
       "0  I ll just leave this right here  2017-07-27T19:00:40.000Z  Comment   \n",
       "1              How does sound work  2018-11-30T13:18:40.000Z  Comment   \n",
       "2                              hey  2018-11-29T04:51:42.000Z  Comment   \n",
       "3  Whats the song in the beginning  2018-11-23T20:46:13.000Z  Comment   \n",
       "4       Can t compete with a PS VR  2018-11-21T10:54:45.000Z  Comment   \n",
       "\n",
       "       videoID           FNAME                                    WORDS  \\\n",
       "0  jBcHv3h1pHs  samsung-vr.csv  [i, ll, just, leave, this, right, here]   \n",
       "1  jBcHv3h1pHs  samsung-vr.csv                 [how, does, sound, work]   \n",
       "2  jBcHv3h1pHs  samsung-vr.csv                                    [hey]   \n",
       "3  jBcHv3h1pHs  samsung-vr.csv   [whats, the, song, in, the, beginning]   \n",
       "4  jBcHv3h1pHs  samsung-vr.csv       [can, t, compete, with, a, ps, vr]   \n",
       "\n",
       "                                            SENTVECS  \n",
       "0  [0.1917683, 0.15611713, 0.3199824, 0.051351413...  \n",
       "1  [-0.095913, 0.2271512, 0.16931242, -0.20964487...  \n",
       "2  [-0.0030196828, 0.13162734, 0.047134276, -0.08...  \n",
       "3  [0.4138912, 0.23341818, 0.054907303, -0.089427...  \n",
       "4  [-0.080483355, 0.07329093, 0.14160651, 0.01256...  "
      ]
     },
     "execution_count": 10,
     "metadata": {},
     "output_type": "execute_result"
    }
   ],
   "source": [
    "comments.head(5)"
   ]
  },
  {
   "cell_type": "code",
   "execution_count": 11,
   "metadata": {},
   "outputs": [
    {
     "name": "stdout",
     "output_type": "stream",
     "text": [
      "No of files : ['samsung-vr.csv' 'tswift.csv']\n",
      "No of Type : ['Comment' 'Reply']\n"
     ]
    }
   ],
   "source": [
    "print(\"No of files : {0}\".format(comments.FNAME.unique()))\n",
    "print(\"No of Type : {}\".format(comments.Type.unique()))"
   ]
  },
  {
   "cell_type": "code",
   "execution_count": 12,
   "metadata": {},
   "outputs": [
    {
     "name": "stderr",
     "output_type": "stream",
     "text": [
      "/anaconda/lib/python3.6/site-packages/sklearn/ensemble/weight_boosting.py:29: DeprecationWarning: numpy.core.umath_tests is an internal NumPy module and should not be imported. It will be removed in a future NumPy release.\n",
      "  from numpy.core.umath_tests import inner1d\n"
     ]
    }
   ],
   "source": [
    "trained_clf = 'doc2vec_rf.model'\n",
    "loaded_clf = joblib.load(trained_clf)"
   ]
  },
  {
   "cell_type": "code",
   "execution_count": 13,
   "metadata": {},
   "outputs": [],
   "source": [
    "comments['SENTIMENT_RF'] = loaded_clf.predict(comments['SENTVECS'].tolist())"
   ]
  },
  {
   "cell_type": "code",
   "execution_count": 14,
   "metadata": {},
   "outputs": [
    {
     "data": {
      "text/html": [
       "<div>\n",
       "<style>\n",
       "    .dataframe thead tr:only-child th {\n",
       "        text-align: right;\n",
       "    }\n",
       "\n",
       "    .dataframe thead th {\n",
       "        text-align: left;\n",
       "    }\n",
       "\n",
       "    .dataframe tbody tr th {\n",
       "        vertical-align: top;\n",
       "    }\n",
       "</style>\n",
       "<table border=\"1\" class=\"dataframe\">\n",
       "  <thead>\n",
       "    <tr style=\"text-align: right;\">\n",
       "      <th></th>\n",
       "      <th>Comment</th>\n",
       "      <th>CreateTimeStamp</th>\n",
       "      <th>Type</th>\n",
       "      <th>videoID</th>\n",
       "      <th>FNAME</th>\n",
       "      <th>WORDS</th>\n",
       "      <th>SENTVECS</th>\n",
       "      <th>SENTIMENT_RF</th>\n",
       "    </tr>\n",
       "  </thead>\n",
       "  <tbody>\n",
       "    <tr>\n",
       "      <th>0</th>\n",
       "      <td>I ll just leave this right here</td>\n",
       "      <td>2017-07-27T19:00:40.000Z</td>\n",
       "      <td>Comment</td>\n",
       "      <td>jBcHv3h1pHs</td>\n",
       "      <td>samsung-vr.csv</td>\n",
       "      <td>[i, ll, just, leave, this, right, here]</td>\n",
       "      <td>[0.1917683, 0.15611713, 0.3199824, 0.051351413...</td>\n",
       "      <td>1</td>\n",
       "    </tr>\n",
       "    <tr>\n",
       "      <th>1</th>\n",
       "      <td>How does sound work</td>\n",
       "      <td>2018-11-30T13:18:40.000Z</td>\n",
       "      <td>Comment</td>\n",
       "      <td>jBcHv3h1pHs</td>\n",
       "      <td>samsung-vr.csv</td>\n",
       "      <td>[how, does, sound, work]</td>\n",
       "      <td>[-0.095913, 0.2271512, 0.16931242, -0.20964487...</td>\n",
       "      <td>0</td>\n",
       "    </tr>\n",
       "    <tr>\n",
       "      <th>2</th>\n",
       "      <td>hey</td>\n",
       "      <td>2018-11-29T04:51:42.000Z</td>\n",
       "      <td>Comment</td>\n",
       "      <td>jBcHv3h1pHs</td>\n",
       "      <td>samsung-vr.csv</td>\n",
       "      <td>[hey]</td>\n",
       "      <td>[-0.0030196828, 0.13162734, 0.047134276, -0.08...</td>\n",
       "      <td>0</td>\n",
       "    </tr>\n",
       "    <tr>\n",
       "      <th>3</th>\n",
       "      <td>Whats the song in the beginning</td>\n",
       "      <td>2018-11-23T20:46:13.000Z</td>\n",
       "      <td>Comment</td>\n",
       "      <td>jBcHv3h1pHs</td>\n",
       "      <td>samsung-vr.csv</td>\n",
       "      <td>[whats, the, song, in, the, beginning]</td>\n",
       "      <td>[0.4138912, 0.23341818, 0.054907303, -0.089427...</td>\n",
       "      <td>0</td>\n",
       "    </tr>\n",
       "    <tr>\n",
       "      <th>4</th>\n",
       "      <td>Can t compete with a PS VR</td>\n",
       "      <td>2018-11-21T10:54:45.000Z</td>\n",
       "      <td>Comment</td>\n",
       "      <td>jBcHv3h1pHs</td>\n",
       "      <td>samsung-vr.csv</td>\n",
       "      <td>[can, t, compete, with, a, ps, vr]</td>\n",
       "      <td>[-0.080483355, 0.07329093, 0.14160651, 0.01256...</td>\n",
       "      <td>1</td>\n",
       "    </tr>\n",
       "  </tbody>\n",
       "</table>\n",
       "</div>"
      ],
      "text/plain": [
       "                           Comment           CreateTimeStamp     Type  \\\n",
       "0  I ll just leave this right here  2017-07-27T19:00:40.000Z  Comment   \n",
       "1              How does sound work  2018-11-30T13:18:40.000Z  Comment   \n",
       "2                              hey  2018-11-29T04:51:42.000Z  Comment   \n",
       "3  Whats the song in the beginning  2018-11-23T20:46:13.000Z  Comment   \n",
       "4       Can t compete with a PS VR  2018-11-21T10:54:45.000Z  Comment   \n",
       "\n",
       "       videoID           FNAME                                    WORDS  \\\n",
       "0  jBcHv3h1pHs  samsung-vr.csv  [i, ll, just, leave, this, right, here]   \n",
       "1  jBcHv3h1pHs  samsung-vr.csv                 [how, does, sound, work]   \n",
       "2  jBcHv3h1pHs  samsung-vr.csv                                    [hey]   \n",
       "3  jBcHv3h1pHs  samsung-vr.csv   [whats, the, song, in, the, beginning]   \n",
       "4  jBcHv3h1pHs  samsung-vr.csv       [can, t, compete, with, a, ps, vr]   \n",
       "\n",
       "                                            SENTVECS  SENTIMENT_RF  \n",
       "0  [0.1917683, 0.15611713, 0.3199824, 0.051351413...             1  \n",
       "1  [-0.095913, 0.2271512, 0.16931242, -0.20964487...             0  \n",
       "2  [-0.0030196828, 0.13162734, 0.047134276, -0.08...             0  \n",
       "3  [0.4138912, 0.23341818, 0.054907303, -0.089427...             0  \n",
       "4  [-0.080483355, 0.07329093, 0.14160651, 0.01256...             1  "
      ]
     },
     "execution_count": 14,
     "metadata": {},
     "output_type": "execute_result"
    }
   ],
   "source": [
    "comments.head(5)"
   ]
  },
  {
   "cell_type": "code",
   "execution_count": 15,
   "metadata": {
    "collapsed": true
   },
   "outputs": [],
   "source": [
    "trained_clf = 'doc2vec_kn.model'\n",
    "loaded_clf = joblib.load(trained_clf)"
   ]
  },
  {
   "cell_type": "code",
   "execution_count": 16,
   "metadata": {},
   "outputs": [],
   "source": [
    "comments['SENTIMENT_KN'] = loaded_clf.predict(comments['SENTVECS'].tolist())"
   ]
  },
  {
   "cell_type": "code",
   "execution_count": 19,
   "metadata": {},
   "outputs": [
    {
     "data": {
      "text/html": [
       "<div>\n",
       "<style>\n",
       "    .dataframe thead tr:only-child th {\n",
       "        text-align: right;\n",
       "    }\n",
       "\n",
       "    .dataframe thead th {\n",
       "        text-align: left;\n",
       "    }\n",
       "\n",
       "    .dataframe tbody tr th {\n",
       "        vertical-align: top;\n",
       "    }\n",
       "</style>\n",
       "<table border=\"1\" class=\"dataframe\">\n",
       "  <thead>\n",
       "    <tr style=\"text-align: right;\">\n",
       "      <th></th>\n",
       "      <th>Comment</th>\n",
       "      <th>CreateTimeStamp</th>\n",
       "      <th>Type</th>\n",
       "      <th>videoID</th>\n",
       "      <th>FNAME</th>\n",
       "      <th>WORDS</th>\n",
       "      <th>SENTVECS</th>\n",
       "      <th>SENTIMENT_RF</th>\n",
       "      <th>SENTIMENT_KN</th>\n",
       "    </tr>\n",
       "  </thead>\n",
       "  <tbody>\n",
       "    <tr>\n",
       "      <th>0</th>\n",
       "      <td>I ll just leave this right here</td>\n",
       "      <td>2017-07-27T19:00:40.000Z</td>\n",
       "      <td>Comment</td>\n",
       "      <td>jBcHv3h1pHs</td>\n",
       "      <td>samsung-vr.csv</td>\n",
       "      <td>[i, ll, just, leave, this, right, here]</td>\n",
       "      <td>[0.1917683, 0.15611713, 0.3199824, 0.051351413...</td>\n",
       "      <td>1</td>\n",
       "      <td>0</td>\n",
       "    </tr>\n",
       "    <tr>\n",
       "      <th>1</th>\n",
       "      <td>How does sound work</td>\n",
       "      <td>2018-11-30T13:18:40.000Z</td>\n",
       "      <td>Comment</td>\n",
       "      <td>jBcHv3h1pHs</td>\n",
       "      <td>samsung-vr.csv</td>\n",
       "      <td>[how, does, sound, work]</td>\n",
       "      <td>[-0.095913, 0.2271512, 0.16931242, -0.20964487...</td>\n",
       "      <td>0</td>\n",
       "      <td>0</td>\n",
       "    </tr>\n",
       "    <tr>\n",
       "      <th>2</th>\n",
       "      <td>hey</td>\n",
       "      <td>2018-11-29T04:51:42.000Z</td>\n",
       "      <td>Comment</td>\n",
       "      <td>jBcHv3h1pHs</td>\n",
       "      <td>samsung-vr.csv</td>\n",
       "      <td>[hey]</td>\n",
       "      <td>[-0.0030196828, 0.13162734, 0.047134276, -0.08...</td>\n",
       "      <td>0</td>\n",
       "      <td>0</td>\n",
       "    </tr>\n",
       "    <tr>\n",
       "      <th>3</th>\n",
       "      <td>Whats the song in the beginning</td>\n",
       "      <td>2018-11-23T20:46:13.000Z</td>\n",
       "      <td>Comment</td>\n",
       "      <td>jBcHv3h1pHs</td>\n",
       "      <td>samsung-vr.csv</td>\n",
       "      <td>[whats, the, song, in, the, beginning]</td>\n",
       "      <td>[0.4138912, 0.23341818, 0.054907303, -0.089427...</td>\n",
       "      <td>0</td>\n",
       "      <td>1</td>\n",
       "    </tr>\n",
       "    <tr>\n",
       "      <th>4</th>\n",
       "      <td>Can t compete with a PS VR</td>\n",
       "      <td>2018-11-21T10:54:45.000Z</td>\n",
       "      <td>Comment</td>\n",
       "      <td>jBcHv3h1pHs</td>\n",
       "      <td>samsung-vr.csv</td>\n",
       "      <td>[can, t, compete, with, a, ps, vr]</td>\n",
       "      <td>[-0.080483355, 0.07329093, 0.14160651, 0.01256...</td>\n",
       "      <td>1</td>\n",
       "      <td>0</td>\n",
       "    </tr>\n",
       "  </tbody>\n",
       "</table>\n",
       "</div>"
      ],
      "text/plain": [
       "                           Comment           CreateTimeStamp     Type  \\\n",
       "0  I ll just leave this right here  2017-07-27T19:00:40.000Z  Comment   \n",
       "1              How does sound work  2018-11-30T13:18:40.000Z  Comment   \n",
       "2                              hey  2018-11-29T04:51:42.000Z  Comment   \n",
       "3  Whats the song in the beginning  2018-11-23T20:46:13.000Z  Comment   \n",
       "4       Can t compete with a PS VR  2018-11-21T10:54:45.000Z  Comment   \n",
       "\n",
       "       videoID           FNAME                                    WORDS  \\\n",
       "0  jBcHv3h1pHs  samsung-vr.csv  [i, ll, just, leave, this, right, here]   \n",
       "1  jBcHv3h1pHs  samsung-vr.csv                 [how, does, sound, work]   \n",
       "2  jBcHv3h1pHs  samsung-vr.csv                                    [hey]   \n",
       "3  jBcHv3h1pHs  samsung-vr.csv   [whats, the, song, in, the, beginning]   \n",
       "4  jBcHv3h1pHs  samsung-vr.csv       [can, t, compete, with, a, ps, vr]   \n",
       "\n",
       "                                            SENTVECS  SENTIMENT_RF  \\\n",
       "0  [0.1917683, 0.15611713, 0.3199824, 0.051351413...             1   \n",
       "1  [-0.095913, 0.2271512, 0.16931242, -0.20964487...             0   \n",
       "2  [-0.0030196828, 0.13162734, 0.047134276, -0.08...             0   \n",
       "3  [0.4138912, 0.23341818, 0.054907303, -0.089427...             0   \n",
       "4  [-0.080483355, 0.07329093, 0.14160651, 0.01256...             1   \n",
       "\n",
       "   SENTIMENT_KN  \n",
       "0             0  \n",
       "1             0  \n",
       "2             0  \n",
       "3             1  \n",
       "4             0  "
      ]
     },
     "execution_count": 19,
     "metadata": {},
     "output_type": "execute_result"
    }
   ],
   "source": [
    "comments.head(5)"
   ]
  },
  {
   "cell_type": "code",
   "execution_count": 22,
   "metadata": {},
   "outputs": [],
   "source": [
    "out_df = comments[['Comment','CreateTimeStamp','Type', 'videoID','SENTIMENT_RF','SENTIMENT_KN']]"
   ]
  },
  {
   "cell_type": "code",
   "execution_count": 24,
   "metadata": {},
   "outputs": [
    {
     "data": {
      "text/html": [
       "<div>\n",
       "<style>\n",
       "    .dataframe thead tr:only-child th {\n",
       "        text-align: right;\n",
       "    }\n",
       "\n",
       "    .dataframe thead th {\n",
       "        text-align: left;\n",
       "    }\n",
       "\n",
       "    .dataframe tbody tr th {\n",
       "        vertical-align: top;\n",
       "    }\n",
       "</style>\n",
       "<table border=\"1\" class=\"dataframe\">\n",
       "  <thead>\n",
       "    <tr style=\"text-align: right;\">\n",
       "      <th></th>\n",
       "      <th>Comment</th>\n",
       "      <th>CreateTimeStamp</th>\n",
       "      <th>Type</th>\n",
       "      <th>videoID</th>\n",
       "      <th>SENTIMENT_RF</th>\n",
       "      <th>SENTIMENT_KN</th>\n",
       "    </tr>\n",
       "  </thead>\n",
       "  <tbody>\n",
       "    <tr>\n",
       "      <th>0</th>\n",
       "      <td>I ll just leave this right here</td>\n",
       "      <td>2017-07-27T19:00:40.000Z</td>\n",
       "      <td>Comment</td>\n",
       "      <td>jBcHv3h1pHs</td>\n",
       "      <td>1</td>\n",
       "      <td>0</td>\n",
       "    </tr>\n",
       "    <tr>\n",
       "      <th>1</th>\n",
       "      <td>How does sound work</td>\n",
       "      <td>2018-11-30T13:18:40.000Z</td>\n",
       "      <td>Comment</td>\n",
       "      <td>jBcHv3h1pHs</td>\n",
       "      <td>0</td>\n",
       "      <td>0</td>\n",
       "    </tr>\n",
       "    <tr>\n",
       "      <th>2</th>\n",
       "      <td>hey</td>\n",
       "      <td>2018-11-29T04:51:42.000Z</td>\n",
       "      <td>Comment</td>\n",
       "      <td>jBcHv3h1pHs</td>\n",
       "      <td>0</td>\n",
       "      <td>0</td>\n",
       "    </tr>\n",
       "    <tr>\n",
       "      <th>3</th>\n",
       "      <td>Whats the song in the beginning</td>\n",
       "      <td>2018-11-23T20:46:13.000Z</td>\n",
       "      <td>Comment</td>\n",
       "      <td>jBcHv3h1pHs</td>\n",
       "      <td>0</td>\n",
       "      <td>1</td>\n",
       "    </tr>\n",
       "    <tr>\n",
       "      <th>4</th>\n",
       "      <td>Can t compete with a PS VR</td>\n",
       "      <td>2018-11-21T10:54:45.000Z</td>\n",
       "      <td>Comment</td>\n",
       "      <td>jBcHv3h1pHs</td>\n",
       "      <td>1</td>\n",
       "      <td>0</td>\n",
       "    </tr>\n",
       "  </tbody>\n",
       "</table>\n",
       "</div>"
      ],
      "text/plain": [
       "                           Comment           CreateTimeStamp     Type  \\\n",
       "0  I ll just leave this right here  2017-07-27T19:00:40.000Z  Comment   \n",
       "1              How does sound work  2018-11-30T13:18:40.000Z  Comment   \n",
       "2                              hey  2018-11-29T04:51:42.000Z  Comment   \n",
       "3  Whats the song in the beginning  2018-11-23T20:46:13.000Z  Comment   \n",
       "4       Can t compete with a PS VR  2018-11-21T10:54:45.000Z  Comment   \n",
       "\n",
       "       videoID  SENTIMENT_RF  SENTIMENT_KN  \n",
       "0  jBcHv3h1pHs             1             0  \n",
       "1  jBcHv3h1pHs             0             0  \n",
       "2  jBcHv3h1pHs             0             0  \n",
       "3  jBcHv3h1pHs             0             1  \n",
       "4  jBcHv3h1pHs             1             0  "
      ]
     },
     "execution_count": 24,
     "metadata": {},
     "output_type": "execute_result"
    }
   ],
   "source": [
    "out_df.head(5)"
   ]
  },
  {
   "cell_type": "code",
   "execution_count": 26,
   "metadata": {
    "collapsed": true
   },
   "outputs": [],
   "source": [
    "out_file_name = '../outdata/video_comments_analysis_sentiments.csv'\n",
    "out_df.to_csv(out_file_name, sep='\\t', index=False)"
   ]
  },
  {
   "cell_type": "code",
   "execution_count": 27,
   "metadata": {},
   "outputs": [
    {
     "name": "stdout",
     "output_type": "stream",
     "text": [
      "****End of script****\n"
     ]
    }
   ],
   "source": [
    "print('****End of script****')"
   ]
  }
 ],
 "metadata": {
  "kernelspec": {
   "display_name": "Python 3",
   "language": "python",
   "name": "python3"
  },
  "language_info": {
   "codemirror_mode": {
    "name": "ipython",
    "version": 3
   },
   "file_extension": ".py",
   "mimetype": "text/x-python",
   "name": "python",
   "nbconvert_exporter": "python",
   "pygments_lexer": "ipython3",
   "version": "3.6.2"
  }
 },
 "nbformat": 4,
 "nbformat_minor": 2
}
