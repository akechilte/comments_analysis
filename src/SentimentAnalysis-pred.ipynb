{
 "cells": [
  {
   "cell_type": "markdown",
   "metadata": {},
   "source": [
    "### Load the model and make prediction\n",
    "##### Input Args:\n",
    "\n",
    "doc_dir = directory where the file with comments to be predicted\n",
    "\n",
    "doc2vec_model_name = doc2vec model already trained\n",
    "\n",
    "trained_clf = Trained classifier\n"
   ]
  },
  {
   "cell_type": "code",
   "execution_count": 20,
   "metadata": {
    "collapsed": true
   },
   "outputs": [],
   "source": [
    "from gensim.models import Doc2Vec\n",
    "import re\n",
    "import os\n",
    "import random\n",
    "from sklearn import metrics\n",
    "import numpy as np\n",
    "import pandas as pd\n",
    "from sklearn.externals import joblib\n",
    "from sklearn.metrics.pairwise import cosine_similarity\n",
    "import pickle"
   ]
  },
  {
   "cell_type": "code",
   "execution_count": 21,
   "metadata": {
    "collapsed": true
   },
   "outputs": [],
   "source": [
    "import warnings\n",
    "warnings.simplefilter(action='ignore', category=FutureWarning)"
   ]
  },
  {
   "cell_type": "code",
   "execution_count": 22,
   "metadata": {
    "collapsed": true
   },
   "outputs": [],
   "source": [
    "def extract_words(sent):\n",
    "    #print(\"line tokenizing : \\n{0}\".format(sent))\n",
    "    sent = sent.lower()\n",
    "    sent = re.sub(r'<[^>]+>', ' ', sent) #strip html tags\n",
    "    sent = re.sub(r'(\\w)\\'(\\w)', '\\1\\2', sent) # remoce apostrophes\n",
    "    sent = re.sub(r'\\W',' ', sent) # remove punctuation\n",
    "    sent = re.sub(r'\\s+', ' ', sent) # remove repeated space\n",
    "    sent = sent.strip()\n",
    "    return sent.split()"
   ]
  },
  {
   "cell_type": "code",
   "execution_count": 25,
   "metadata": {},
   "outputs": [],
   "source": [
    "#Load doc to vec model\n",
    "doc2vec_model_name = 'reviews.d2v'\n",
    "doc2vec_model = Doc2Vec.load(doc2vec_model_name)"
   ]
  },
  {
   "cell_type": "code",
   "execution_count": 27,
   "metadata": {},
   "outputs": [
    {
     "data": {
      "text/plain": [
       "array([[0.6753069]], dtype=float32)"
      ]
     },
     "execution_count": 27,
     "metadata": {},
     "output_type": "execute_result"
    }
   ],
   "source": [
    "#Test the trained doc2vec model\n",
    "cosine_similarity(\n",
    "[doc2vec_model.infer_vector(extract_words(\"This is really exciting video. Thank you for presenting to us.\"))],\n",
    "[doc2vec_model.infer_vector(extract_words(\"Exciting video. Keep it coming\"))])"
   ]
  },
  {
   "cell_type": "code",
   "execution_count": 28,
   "metadata": {
    "collapsed": true
   },
   "outputs": [],
   "source": [
    "#Converts the comments to vector using doc2vec model trianed earlier\n",
    "def get_doc2vec(model, doc_dir,comment_col_name='Comment'):\n",
    "    comments_dfs = []\n",
    "    \n",
    "    for fname in sorted(os.listdir(doc_dir)):\n",
    "        fname_full = doc_dir + \"/\" + fname\n",
    "        print(\"file being read : {0}\".format(fname_full))\n",
    "        data = pd.read_csv(fname_full, sep='\\t', header='infer')\n",
    "        data['FNAME'] = fname\n",
    "        data['WORDS'] = data[comment_col_name].map(lambda x: extract_words(x))\n",
    "        data['SENTVECS'] = data['WORDS'].map(lambda x: model.infer_vector(x, steps=10))\n",
    "        comments_dfs.append(data)\n",
    "\n",
    "    comments = pd.concat(comments_dfs)\n",
    "    return comments"
   ]
  },
  {
   "cell_type": "code",
   "execution_count": 29,
   "metadata": {},
   "outputs": [
    {
     "name": "stdout",
     "output_type": "stream",
     "text": [
      "file being read : ../indata/EdSheeran.csv\n",
      "file being read : ../indata/Maroon5.csv\n",
      "file being read : ../indata/SuperBowlLI.csv\n",
      "file being read : ../indata/bing-bang-theory.csv\n",
      "file being read : ../indata/bitcoin-vs-ethereum.csv\n",
      "file being read : ../indata/coldpay.csv\n",
      "file being read : ../indata/eminem-not-affraid.csv\n",
      "file being read : ../indata/federer-rafael.csv\n",
      "file being read : ../indata/formula1-2018.csv\n",
      "file being read : ../indata/got8.csv\n",
      "file being read : ../indata/house-of-cards.csv\n",
      "file being read : ../indata/iphone-xs-vs-note9.csv\n",
      "file being read : ../indata/mac-vs-windows.csv\n",
      "file being read : ../indata/nfl-highlights.csv\n",
      "file being read : ../indata/oculus.csv\n",
      "file being read : ../indata/samsung-vr.csv\n",
      "file being read : ../indata/tonight-show.csv\n",
      "file being read : ../indata/tswift.csv\n",
      "file being read : ../indata/warriors.csv\n"
     ]
    }
   ],
   "source": [
    "doc_dir = \"../indata\"\n",
    "comments = get_doc2vec(doc2vec_model, doc_dir)"
   ]
  },
  {
   "cell_type": "code",
   "execution_count": 30,
   "metadata": {},
   "outputs": [
    {
     "data": {
      "text/html": [
       "<div>\n",
       "<style>\n",
       "    .dataframe thead tr:only-child th {\n",
       "        text-align: right;\n",
       "    }\n",
       "\n",
       "    .dataframe thead th {\n",
       "        text-align: left;\n",
       "    }\n",
       "\n",
       "    .dataframe tbody tr th {\n",
       "        vertical-align: top;\n",
       "    }\n",
       "</style>\n",
       "<table border=\"1\" class=\"dataframe\">\n",
       "  <thead>\n",
       "    <tr style=\"text-align: right;\">\n",
       "      <th></th>\n",
       "      <th>Comment</th>\n",
       "      <th>CreateTimeStamp</th>\n",
       "      <th>Type</th>\n",
       "      <th>videoID</th>\n",
       "      <th>videoTitle</th>\n",
       "      <th>FNAME</th>\n",
       "      <th>WORDS</th>\n",
       "      <th>SENTVECS</th>\n",
       "    </tr>\n",
       "  </thead>\n",
       "  <tbody>\n",
       "    <tr>\n",
       "      <th>0</th>\n",
       "      <td>December everyone</td>\n",
       "      <td>2018-12-06T06:05:20.000Z</td>\n",
       "      <td>Comment</td>\n",
       "      <td>2Vv-BfVoq4g</td>\n",
       "      <td>Ed Sheeran - Perfect (Official Music Video)</td>\n",
       "      <td>EdSheeran.csv</td>\n",
       "      <td>[december, everyone]</td>\n",
       "      <td>[-0.068403006, -0.044122253, 0.01688296, 0.053...</td>\n",
       "    </tr>\n",
       "    <tr>\n",
       "      <th>1</th>\n",
       "      <td>the sweetest song ever in love with this song</td>\n",
       "      <td>2018-12-06T05:58:13.000Z</td>\n",
       "      <td>Comment</td>\n",
       "      <td>2Vv-BfVoq4g</td>\n",
       "      <td>Ed Sheeran - Perfect (Official Music Video)</td>\n",
       "      <td>EdSheeran.csv</td>\n",
       "      <td>[the, sweetest, song, ever, in, love, with, th...</td>\n",
       "      <td>[0.14944652, 0.37444994, 0.38711354, -0.232493...</td>\n",
       "    </tr>\n",
       "    <tr>\n",
       "      <th>2</th>\n",
       "      <td>Love this song</td>\n",
       "      <td>2018-12-06T05:58:04.000Z</td>\n",
       "      <td>Comment</td>\n",
       "      <td>2Vv-BfVoq4g</td>\n",
       "      <td>Ed Sheeran - Perfect (Official Music Video)</td>\n",
       "      <td>EdSheeran.csv</td>\n",
       "      <td>[love, this, song]</td>\n",
       "      <td>[0.17394641, 0.35500512, 0.13546918, -0.124175...</td>\n",
       "    </tr>\n",
       "    <tr>\n",
       "      <th>3</th>\n",
       "      <td>m gonna kill that son of bitch</td>\n",
       "      <td>2018-12-06T05:32:23.000Z</td>\n",
       "      <td>Comment</td>\n",
       "      <td>2Vv-BfVoq4g</td>\n",
       "      <td>Ed Sheeran - Perfect (Official Music Video)</td>\n",
       "      <td>EdSheeran.csv</td>\n",
       "      <td>[m, gonna, kill, that, son, of, bitch]</td>\n",
       "      <td>[0.1346761, -0.044986937, -0.053727243, 0.1896...</td>\n",
       "    </tr>\n",
       "    <tr>\n",
       "      <th>4</th>\n",
       "      <td>Wuuuuaaaaoooo</td>\n",
       "      <td>2018-12-06T05:31:54.000Z</td>\n",
       "      <td>Comment</td>\n",
       "      <td>2Vv-BfVoq4g</td>\n",
       "      <td>Ed Sheeran - Perfect (Official Music Video)</td>\n",
       "      <td>EdSheeran.csv</td>\n",
       "      <td>[wuuuuaaaaoooo]</td>\n",
       "      <td>[0.0053953473, -0.003310422, -0.0038284012, 0....</td>\n",
       "    </tr>\n",
       "  </tbody>\n",
       "</table>\n",
       "</div>"
      ],
      "text/plain": [
       "                                         Comment           CreateTimeStamp  \\\n",
       "0                              December everyone  2018-12-06T06:05:20.000Z   \n",
       "1  the sweetest song ever in love with this song  2018-12-06T05:58:13.000Z   \n",
       "2                                 Love this song  2018-12-06T05:58:04.000Z   \n",
       "3                 m gonna kill that son of bitch  2018-12-06T05:32:23.000Z   \n",
       "4                                  Wuuuuaaaaoooo  2018-12-06T05:31:54.000Z   \n",
       "\n",
       "      Type      videoID                                   videoTitle  \\\n",
       "0  Comment  2Vv-BfVoq4g  Ed Sheeran - Perfect (Official Music Video)   \n",
       "1  Comment  2Vv-BfVoq4g  Ed Sheeran - Perfect (Official Music Video)   \n",
       "2  Comment  2Vv-BfVoq4g  Ed Sheeran - Perfect (Official Music Video)   \n",
       "3  Comment  2Vv-BfVoq4g  Ed Sheeran - Perfect (Official Music Video)   \n",
       "4  Comment  2Vv-BfVoq4g  Ed Sheeran - Perfect (Official Music Video)   \n",
       "\n",
       "           FNAME                                              WORDS  \\\n",
       "0  EdSheeran.csv                               [december, everyone]   \n",
       "1  EdSheeran.csv  [the, sweetest, song, ever, in, love, with, th...   \n",
       "2  EdSheeran.csv                                 [love, this, song]   \n",
       "3  EdSheeran.csv             [m, gonna, kill, that, son, of, bitch]   \n",
       "4  EdSheeran.csv                                    [wuuuuaaaaoooo]   \n",
       "\n",
       "                                            SENTVECS  \n",
       "0  [-0.068403006, -0.044122253, 0.01688296, 0.053...  \n",
       "1  [0.14944652, 0.37444994, 0.38711354, -0.232493...  \n",
       "2  [0.17394641, 0.35500512, 0.13546918, -0.124175...  \n",
       "3  [0.1346761, -0.044986937, -0.053727243, 0.1896...  \n",
       "4  [0.0053953473, -0.003310422, -0.0038284012, 0....  "
      ]
     },
     "execution_count": 30,
     "metadata": {},
     "output_type": "execute_result"
    }
   ],
   "source": [
    "comments.head(5)"
   ]
  },
  {
   "cell_type": "code",
   "execution_count": 31,
   "metadata": {},
   "outputs": [
    {
     "name": "stdout",
     "output_type": "stream",
     "text": [
      "No of files : ['EdSheeran.csv' 'Maroon5.csv' 'SuperBowlLI.csv' 'bing-bang-theory.csv'\n",
      " 'bitcoin-vs-ethereum.csv' 'coldpay.csv' 'eminem-not-affraid.csv'\n",
      " 'federer-rafael.csv' 'formula1-2018.csv' 'got8.csv' 'house-of-cards.csv'\n",
      " 'iphone-xs-vs-note9.csv' 'mac-vs-windows.csv' 'nfl-highlights.csv'\n",
      " 'oculus.csv' 'samsung-vr.csv' 'tonight-show.csv' 'tswift.csv'\n",
      " 'warriors.csv']\n",
      "No of Type : ['Comment' 'Reply']\n"
     ]
    }
   ],
   "source": [
    "print(\"No of files : {0}\".format(comments.FNAME.unique()))\n",
    "print(\"No of Type : {}\".format(comments.Type.unique()))"
   ]
  },
  {
   "cell_type": "code",
   "execution_count": 32,
   "metadata": {},
   "outputs": [],
   "source": [
    "trained_clf = 'doc2vec_rf.model'\n",
    "loaded_clf = joblib.load(trained_clf)"
   ]
  },
  {
   "cell_type": "code",
   "execution_count": 33,
   "metadata": {},
   "outputs": [],
   "source": [
    "comments['SENTIMENT_RF'] = loaded_clf.predict(comments['SENTVECS'].tolist())"
   ]
  },
  {
   "cell_type": "code",
   "execution_count": 34,
   "metadata": {},
   "outputs": [
    {
     "data": {
      "text/html": [
       "<div>\n",
       "<style>\n",
       "    .dataframe thead tr:only-child th {\n",
       "        text-align: right;\n",
       "    }\n",
       "\n",
       "    .dataframe thead th {\n",
       "        text-align: left;\n",
       "    }\n",
       "\n",
       "    .dataframe tbody tr th {\n",
       "        vertical-align: top;\n",
       "    }\n",
       "</style>\n",
       "<table border=\"1\" class=\"dataframe\">\n",
       "  <thead>\n",
       "    <tr style=\"text-align: right;\">\n",
       "      <th></th>\n",
       "      <th>Comment</th>\n",
       "      <th>CreateTimeStamp</th>\n",
       "      <th>Type</th>\n",
       "      <th>videoID</th>\n",
       "      <th>videoTitle</th>\n",
       "      <th>FNAME</th>\n",
       "      <th>WORDS</th>\n",
       "      <th>SENTVECS</th>\n",
       "      <th>SENTIMENT_RF</th>\n",
       "    </tr>\n",
       "  </thead>\n",
       "  <tbody>\n",
       "    <tr>\n",
       "      <th>0</th>\n",
       "      <td>December everyone</td>\n",
       "      <td>2018-12-06T06:05:20.000Z</td>\n",
       "      <td>Comment</td>\n",
       "      <td>2Vv-BfVoq4g</td>\n",
       "      <td>Ed Sheeran - Perfect (Official Music Video)</td>\n",
       "      <td>EdSheeran.csv</td>\n",
       "      <td>[december, everyone]</td>\n",
       "      <td>[-0.068403006, -0.044122253, 0.01688296, 0.053...</td>\n",
       "      <td>1</td>\n",
       "    </tr>\n",
       "    <tr>\n",
       "      <th>1</th>\n",
       "      <td>the sweetest song ever in love with this song</td>\n",
       "      <td>2018-12-06T05:58:13.000Z</td>\n",
       "      <td>Comment</td>\n",
       "      <td>2Vv-BfVoq4g</td>\n",
       "      <td>Ed Sheeran - Perfect (Official Music Video)</td>\n",
       "      <td>EdSheeran.csv</td>\n",
       "      <td>[the, sweetest, song, ever, in, love, with, th...</td>\n",
       "      <td>[0.14944652, 0.37444994, 0.38711354, -0.232493...</td>\n",
       "      <td>1</td>\n",
       "    </tr>\n",
       "    <tr>\n",
       "      <th>2</th>\n",
       "      <td>Love this song</td>\n",
       "      <td>2018-12-06T05:58:04.000Z</td>\n",
       "      <td>Comment</td>\n",
       "      <td>2Vv-BfVoq4g</td>\n",
       "      <td>Ed Sheeran - Perfect (Official Music Video)</td>\n",
       "      <td>EdSheeran.csv</td>\n",
       "      <td>[love, this, song]</td>\n",
       "      <td>[0.17394641, 0.35500512, 0.13546918, -0.124175...</td>\n",
       "      <td>1</td>\n",
       "    </tr>\n",
       "    <tr>\n",
       "      <th>3</th>\n",
       "      <td>m gonna kill that son of bitch</td>\n",
       "      <td>2018-12-06T05:32:23.000Z</td>\n",
       "      <td>Comment</td>\n",
       "      <td>2Vv-BfVoq4g</td>\n",
       "      <td>Ed Sheeran - Perfect (Official Music Video)</td>\n",
       "      <td>EdSheeran.csv</td>\n",
       "      <td>[m, gonna, kill, that, son, of, bitch]</td>\n",
       "      <td>[0.1346761, -0.044986937, -0.053727243, 0.1896...</td>\n",
       "      <td>0</td>\n",
       "    </tr>\n",
       "    <tr>\n",
       "      <th>4</th>\n",
       "      <td>Wuuuuaaaaoooo</td>\n",
       "      <td>2018-12-06T05:31:54.000Z</td>\n",
       "      <td>Comment</td>\n",
       "      <td>2Vv-BfVoq4g</td>\n",
       "      <td>Ed Sheeran - Perfect (Official Music Video)</td>\n",
       "      <td>EdSheeran.csv</td>\n",
       "      <td>[wuuuuaaaaoooo]</td>\n",
       "      <td>[0.0053953473, -0.003310422, -0.0038284012, 0....</td>\n",
       "      <td>0</td>\n",
       "    </tr>\n",
       "  </tbody>\n",
       "</table>\n",
       "</div>"
      ],
      "text/plain": [
       "                                         Comment           CreateTimeStamp  \\\n",
       "0                              December everyone  2018-12-06T06:05:20.000Z   \n",
       "1  the sweetest song ever in love with this song  2018-12-06T05:58:13.000Z   \n",
       "2                                 Love this song  2018-12-06T05:58:04.000Z   \n",
       "3                 m gonna kill that son of bitch  2018-12-06T05:32:23.000Z   \n",
       "4                                  Wuuuuaaaaoooo  2018-12-06T05:31:54.000Z   \n",
       "\n",
       "      Type      videoID                                   videoTitle  \\\n",
       "0  Comment  2Vv-BfVoq4g  Ed Sheeran - Perfect (Official Music Video)   \n",
       "1  Comment  2Vv-BfVoq4g  Ed Sheeran - Perfect (Official Music Video)   \n",
       "2  Comment  2Vv-BfVoq4g  Ed Sheeran - Perfect (Official Music Video)   \n",
       "3  Comment  2Vv-BfVoq4g  Ed Sheeran - Perfect (Official Music Video)   \n",
       "4  Comment  2Vv-BfVoq4g  Ed Sheeran - Perfect (Official Music Video)   \n",
       "\n",
       "           FNAME                                              WORDS  \\\n",
       "0  EdSheeran.csv                               [december, everyone]   \n",
       "1  EdSheeran.csv  [the, sweetest, song, ever, in, love, with, th...   \n",
       "2  EdSheeran.csv                                 [love, this, song]   \n",
       "3  EdSheeran.csv             [m, gonna, kill, that, son, of, bitch]   \n",
       "4  EdSheeran.csv                                    [wuuuuaaaaoooo]   \n",
       "\n",
       "                                            SENTVECS  SENTIMENT_RF  \n",
       "0  [-0.068403006, -0.044122253, 0.01688296, 0.053...             1  \n",
       "1  [0.14944652, 0.37444994, 0.38711354, -0.232493...             1  \n",
       "2  [0.17394641, 0.35500512, 0.13546918, -0.124175...             1  \n",
       "3  [0.1346761, -0.044986937, -0.053727243, 0.1896...             0  \n",
       "4  [0.0053953473, -0.003310422, -0.0038284012, 0....             0  "
      ]
     },
     "execution_count": 34,
     "metadata": {},
     "output_type": "execute_result"
    }
   ],
   "source": [
    "comments.head(5)"
   ]
  },
  {
   "cell_type": "code",
   "execution_count": 35,
   "metadata": {
    "collapsed": true
   },
   "outputs": [],
   "source": [
    "trained_clf = 'doc2vec_kn.model'\n",
    "loaded_clf = joblib.load(trained_clf)"
   ]
  },
  {
   "cell_type": "code",
   "execution_count": 36,
   "metadata": {},
   "outputs": [],
   "source": [
    "comments['SENTIMENT_KN'] = loaded_clf.predict(comments['SENTVECS'].tolist())"
   ]
  },
  {
   "cell_type": "code",
   "execution_count": 37,
   "metadata": {},
   "outputs": [
    {
     "data": {
      "text/html": [
       "<div>\n",
       "<style>\n",
       "    .dataframe thead tr:only-child th {\n",
       "        text-align: right;\n",
       "    }\n",
       "\n",
       "    .dataframe thead th {\n",
       "        text-align: left;\n",
       "    }\n",
       "\n",
       "    .dataframe tbody tr th {\n",
       "        vertical-align: top;\n",
       "    }\n",
       "</style>\n",
       "<table border=\"1\" class=\"dataframe\">\n",
       "  <thead>\n",
       "    <tr style=\"text-align: right;\">\n",
       "      <th></th>\n",
       "      <th>Comment</th>\n",
       "      <th>CreateTimeStamp</th>\n",
       "      <th>Type</th>\n",
       "      <th>videoID</th>\n",
       "      <th>videoTitle</th>\n",
       "      <th>FNAME</th>\n",
       "      <th>WORDS</th>\n",
       "      <th>SENTVECS</th>\n",
       "      <th>SENTIMENT_RF</th>\n",
       "      <th>SENTIMENT_KN</th>\n",
       "    </tr>\n",
       "  </thead>\n",
       "  <tbody>\n",
       "    <tr>\n",
       "      <th>0</th>\n",
       "      <td>December everyone</td>\n",
       "      <td>2018-12-06T06:05:20.000Z</td>\n",
       "      <td>Comment</td>\n",
       "      <td>2Vv-BfVoq4g</td>\n",
       "      <td>Ed Sheeran - Perfect (Official Music Video)</td>\n",
       "      <td>EdSheeran.csv</td>\n",
       "      <td>[december, everyone]</td>\n",
       "      <td>[-0.068403006, -0.044122253, 0.01688296, 0.053...</td>\n",
       "      <td>1</td>\n",
       "      <td>1</td>\n",
       "    </tr>\n",
       "    <tr>\n",
       "      <th>1</th>\n",
       "      <td>the sweetest song ever in love with this song</td>\n",
       "      <td>2018-12-06T05:58:13.000Z</td>\n",
       "      <td>Comment</td>\n",
       "      <td>2Vv-BfVoq4g</td>\n",
       "      <td>Ed Sheeran - Perfect (Official Music Video)</td>\n",
       "      <td>EdSheeran.csv</td>\n",
       "      <td>[the, sweetest, song, ever, in, love, with, th...</td>\n",
       "      <td>[0.14944652, 0.37444994, 0.38711354, -0.232493...</td>\n",
       "      <td>1</td>\n",
       "      <td>1</td>\n",
       "    </tr>\n",
       "    <tr>\n",
       "      <th>2</th>\n",
       "      <td>Love this song</td>\n",
       "      <td>2018-12-06T05:58:04.000Z</td>\n",
       "      <td>Comment</td>\n",
       "      <td>2Vv-BfVoq4g</td>\n",
       "      <td>Ed Sheeran - Perfect (Official Music Video)</td>\n",
       "      <td>EdSheeran.csv</td>\n",
       "      <td>[love, this, song]</td>\n",
       "      <td>[0.17394641, 0.35500512, 0.13546918, -0.124175...</td>\n",
       "      <td>1</td>\n",
       "      <td>1</td>\n",
       "    </tr>\n",
       "    <tr>\n",
       "      <th>3</th>\n",
       "      <td>m gonna kill that son of bitch</td>\n",
       "      <td>2018-12-06T05:32:23.000Z</td>\n",
       "      <td>Comment</td>\n",
       "      <td>2Vv-BfVoq4g</td>\n",
       "      <td>Ed Sheeran - Perfect (Official Music Video)</td>\n",
       "      <td>EdSheeran.csv</td>\n",
       "      <td>[m, gonna, kill, that, son, of, bitch]</td>\n",
       "      <td>[0.1346761, -0.044986937, -0.053727243, 0.1896...</td>\n",
       "      <td>0</td>\n",
       "      <td>1</td>\n",
       "    </tr>\n",
       "    <tr>\n",
       "      <th>4</th>\n",
       "      <td>Wuuuuaaaaoooo</td>\n",
       "      <td>2018-12-06T05:31:54.000Z</td>\n",
       "      <td>Comment</td>\n",
       "      <td>2Vv-BfVoq4g</td>\n",
       "      <td>Ed Sheeran - Perfect (Official Music Video)</td>\n",
       "      <td>EdSheeran.csv</td>\n",
       "      <td>[wuuuuaaaaoooo]</td>\n",
       "      <td>[0.0053953473, -0.003310422, -0.0038284012, 0....</td>\n",
       "      <td>0</td>\n",
       "      <td>1</td>\n",
       "    </tr>\n",
       "  </tbody>\n",
       "</table>\n",
       "</div>"
      ],
      "text/plain": [
       "                                         Comment           CreateTimeStamp  \\\n",
       "0                              December everyone  2018-12-06T06:05:20.000Z   \n",
       "1  the sweetest song ever in love with this song  2018-12-06T05:58:13.000Z   \n",
       "2                                 Love this song  2018-12-06T05:58:04.000Z   \n",
       "3                 m gonna kill that son of bitch  2018-12-06T05:32:23.000Z   \n",
       "4                                  Wuuuuaaaaoooo  2018-12-06T05:31:54.000Z   \n",
       "\n",
       "      Type      videoID                                   videoTitle  \\\n",
       "0  Comment  2Vv-BfVoq4g  Ed Sheeran - Perfect (Official Music Video)   \n",
       "1  Comment  2Vv-BfVoq4g  Ed Sheeran - Perfect (Official Music Video)   \n",
       "2  Comment  2Vv-BfVoq4g  Ed Sheeran - Perfect (Official Music Video)   \n",
       "3  Comment  2Vv-BfVoq4g  Ed Sheeran - Perfect (Official Music Video)   \n",
       "4  Comment  2Vv-BfVoq4g  Ed Sheeran - Perfect (Official Music Video)   \n",
       "\n",
       "           FNAME                                              WORDS  \\\n",
       "0  EdSheeran.csv                               [december, everyone]   \n",
       "1  EdSheeran.csv  [the, sweetest, song, ever, in, love, with, th...   \n",
       "2  EdSheeran.csv                                 [love, this, song]   \n",
       "3  EdSheeran.csv             [m, gonna, kill, that, son, of, bitch]   \n",
       "4  EdSheeran.csv                                    [wuuuuaaaaoooo]   \n",
       "\n",
       "                                            SENTVECS  SENTIMENT_RF  \\\n",
       "0  [-0.068403006, -0.044122253, 0.01688296, 0.053...             1   \n",
       "1  [0.14944652, 0.37444994, 0.38711354, -0.232493...             1   \n",
       "2  [0.17394641, 0.35500512, 0.13546918, -0.124175...             1   \n",
       "3  [0.1346761, -0.044986937, -0.053727243, 0.1896...             0   \n",
       "4  [0.0053953473, -0.003310422, -0.0038284012, 0....             0   \n",
       "\n",
       "   SENTIMENT_KN  \n",
       "0             1  \n",
       "1             1  \n",
       "2             1  \n",
       "3             1  \n",
       "4             1  "
      ]
     },
     "execution_count": 37,
     "metadata": {},
     "output_type": "execute_result"
    }
   ],
   "source": [
    "comments.head(5)"
   ]
  },
  {
   "cell_type": "code",
   "execution_count": 38,
   "metadata": {},
   "outputs": [],
   "source": [
    "out_df = comments[['Comment','CreateTimeStamp','Type', 'videoID', 'videoTitle', 'FNAME','SENTIMENT_RF','SENTIMENT_KN']]"
   ]
  },
  {
   "cell_type": "code",
   "execution_count": 43,
   "metadata": {},
   "outputs": [
    {
     "data": {
      "text/html": [
       "<div>\n",
       "<style>\n",
       "    .dataframe thead tr:only-child th {\n",
       "        text-align: right;\n",
       "    }\n",
       "\n",
       "    .dataframe thead th {\n",
       "        text-align: left;\n",
       "    }\n",
       "\n",
       "    .dataframe tbody tr th {\n",
       "        vertical-align: top;\n",
       "    }\n",
       "</style>\n",
       "<table border=\"1\" class=\"dataframe\">\n",
       "  <thead>\n",
       "    <tr style=\"text-align: right;\">\n",
       "      <th></th>\n",
       "      <th>Comment</th>\n",
       "      <th>CreateTimeStamp</th>\n",
       "      <th>Type</th>\n",
       "      <th>videoID</th>\n",
       "      <th>videoTitle</th>\n",
       "      <th>FNAME</th>\n",
       "      <th>SENTIMENT_RF</th>\n",
       "      <th>SENTIMENT_KN</th>\n",
       "    </tr>\n",
       "  </thead>\n",
       "  <tbody>\n",
       "    <tr>\n",
       "      <th>0</th>\n",
       "      <td>December everyone</td>\n",
       "      <td>2018-12-06T06:05:20.000Z</td>\n",
       "      <td>Comment</td>\n",
       "      <td>2Vv-BfVoq4g</td>\n",
       "      <td>Ed Sheeran - Perfect (Official Music Video)</td>\n",
       "      <td>EdSheeran.csv</td>\n",
       "      <td>1</td>\n",
       "      <td>1</td>\n",
       "    </tr>\n",
       "    <tr>\n",
       "      <th>1</th>\n",
       "      <td>the sweetest song ever in love with this song</td>\n",
       "      <td>2018-12-06T05:58:13.000Z</td>\n",
       "      <td>Comment</td>\n",
       "      <td>2Vv-BfVoq4g</td>\n",
       "      <td>Ed Sheeran - Perfect (Official Music Video)</td>\n",
       "      <td>EdSheeran.csv</td>\n",
       "      <td>1</td>\n",
       "      <td>1</td>\n",
       "    </tr>\n",
       "    <tr>\n",
       "      <th>2</th>\n",
       "      <td>Love this song</td>\n",
       "      <td>2018-12-06T05:58:04.000Z</td>\n",
       "      <td>Comment</td>\n",
       "      <td>2Vv-BfVoq4g</td>\n",
       "      <td>Ed Sheeran - Perfect (Official Music Video)</td>\n",
       "      <td>EdSheeran.csv</td>\n",
       "      <td>1</td>\n",
       "      <td>1</td>\n",
       "    </tr>\n",
       "    <tr>\n",
       "      <th>3</th>\n",
       "      <td>m gonna kill that son of bitch</td>\n",
       "      <td>2018-12-06T05:32:23.000Z</td>\n",
       "      <td>Comment</td>\n",
       "      <td>2Vv-BfVoq4g</td>\n",
       "      <td>Ed Sheeran - Perfect (Official Music Video)</td>\n",
       "      <td>EdSheeran.csv</td>\n",
       "      <td>0</td>\n",
       "      <td>1</td>\n",
       "    </tr>\n",
       "    <tr>\n",
       "      <th>4</th>\n",
       "      <td>Wuuuuaaaaoooo</td>\n",
       "      <td>2018-12-06T05:31:54.000Z</td>\n",
       "      <td>Comment</td>\n",
       "      <td>2Vv-BfVoq4g</td>\n",
       "      <td>Ed Sheeran - Perfect (Official Music Video)</td>\n",
       "      <td>EdSheeran.csv</td>\n",
       "      <td>0</td>\n",
       "      <td>1</td>\n",
       "    </tr>\n",
       "  </tbody>\n",
       "</table>\n",
       "</div>"
      ],
      "text/plain": [
       "                                         Comment           CreateTimeStamp  \\\n",
       "0                              December everyone  2018-12-06T06:05:20.000Z   \n",
       "1  the sweetest song ever in love with this song  2018-12-06T05:58:13.000Z   \n",
       "2                                 Love this song  2018-12-06T05:58:04.000Z   \n",
       "3                 m gonna kill that son of bitch  2018-12-06T05:32:23.000Z   \n",
       "4                                  Wuuuuaaaaoooo  2018-12-06T05:31:54.000Z   \n",
       "\n",
       "      Type      videoID                                   videoTitle  \\\n",
       "0  Comment  2Vv-BfVoq4g  Ed Sheeran - Perfect (Official Music Video)   \n",
       "1  Comment  2Vv-BfVoq4g  Ed Sheeran - Perfect (Official Music Video)   \n",
       "2  Comment  2Vv-BfVoq4g  Ed Sheeran - Perfect (Official Music Video)   \n",
       "3  Comment  2Vv-BfVoq4g  Ed Sheeran - Perfect (Official Music Video)   \n",
       "4  Comment  2Vv-BfVoq4g  Ed Sheeran - Perfect (Official Music Video)   \n",
       "\n",
       "           FNAME  SENTIMENT_RF  SENTIMENT_KN  \n",
       "0  EdSheeran.csv             1             1  \n",
       "1  EdSheeran.csv             1             1  \n",
       "2  EdSheeran.csv             1             1  \n",
       "3  EdSheeran.csv             0             1  \n",
       "4  EdSheeran.csv             0             1  "
      ]
     },
     "execution_count": 43,
     "metadata": {},
     "output_type": "execute_result"
    }
   ],
   "source": [
    "out_df.head(5)"
   ]
  },
  {
   "cell_type": "code",
   "execution_count": 40,
   "metadata": {
    "collapsed": true
   },
   "outputs": [],
   "source": [
    "out_file_name = '../outdata/video_comments_analysis_sentiments.csv'\n",
    "out_df.to_csv(out_file_name, sep='\\t', index=False)"
   ]
  },
  {
   "cell_type": "code",
   "execution_count": 41,
   "metadata": {},
   "outputs": [
    {
     "name": "stdout",
     "output_type": "stream",
     "text": [
      "****End of script****\n"
     ]
    }
   ],
   "source": [
    "print('****End of script****')"
   ]
  },
  {
   "cell_type": "code",
   "execution_count": null,
   "metadata": {
    "collapsed": true
   },
   "outputs": [],
   "source": []
  }
 ],
 "metadata": {
  "kernelspec": {
   "display_name": "Python 3",
   "language": "python",
   "name": "python3"
  },
  "language_info": {
   "codemirror_mode": {
    "name": "ipython",
    "version": 3
   },
   "file_extension": ".py",
   "mimetype": "text/x-python",
   "name": "python",
   "nbconvert_exporter": "python",
   "pygments_lexer": "ipython3",
   "version": "3.6.2"
  }
 },
 "nbformat": 4,
 "nbformat_minor": 2
}
