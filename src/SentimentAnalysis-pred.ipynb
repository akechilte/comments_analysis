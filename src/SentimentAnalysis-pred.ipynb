{
 "cells": [
  {
   "cell_type": "markdown",
   "metadata": {},
   "source": [
    "### Load the model and make prediction\n",
    "##### Input Args:\n",
    "\n",
    "doc_dir = directory where the file with comments to be predicted\n",
    "\n",
    "doc2vec_model_name = doc2vec model already trained\n",
    "\n",
    "trained_clf = Trained classifier\n"
   ]
  },
  {
   "cell_type": "code",
   "execution_count": 1,
   "metadata": {
    "collapsed": true
   },
   "outputs": [],
   "source": [
    "from gensim.models import Doc2Vec\n",
    "import re\n",
    "import os\n",
    "import random\n",
    "from sklearn import metrics\n",
    "import numpy as np\n",
    "import pandas as pd\n",
    "from sklearn.externals import joblib\n",
    "from sklearn.metrics.pairwise import cosine_similarity\n",
    "import pickle"
   ]
  },
  {
   "cell_type": "code",
   "execution_count": 2,
   "metadata": {
    "collapsed": true
   },
   "outputs": [],
   "source": [
    "import warnings\n",
    "warnings.simplefilter(action='ignore', category=FutureWarning)"
   ]
  },
  {
   "cell_type": "code",
   "execution_count": 3,
   "metadata": {
    "collapsed": true
   },
   "outputs": [],
   "source": [
    "def extract_words(sent):\n",
    "    #print(\"line tokenizing : \\n{0}\".format(sent))\n",
    "    sent = sent.lower()\n",
    "    sent = re.sub(r'<[^>]+>', ' ', sent) #strip html tags\n",
    "    sent = re.sub(r'(\\w)\\'(\\w)', '\\1\\2', sent) # remoce apostrophes\n",
    "    sent = re.sub(r'\\W',' ', sent) # remove punctuation\n",
    "    sent = re.sub(r'\\s+', ' ', sent) # remove repeated space\n",
    "    sent = sent.strip()\n",
    "    return sent.split()"
   ]
  },
  {
   "cell_type": "code",
   "execution_count": 4,
   "metadata": {},
   "outputs": [],
   "source": [
    "#Load doc to vec model\n",
    "doc2vec_model_name = 'reviews.d2v'\n",
    "doc2vec_model = Doc2Vec.load(doc2vec_model_name)"
   ]
  },
  {
   "cell_type": "code",
   "execution_count": 5,
   "metadata": {},
   "outputs": [
    {
     "data": {
      "text/plain": [
       "array([[0.72700226]], dtype=float32)"
      ]
     },
     "execution_count": 5,
     "metadata": {},
     "output_type": "execute_result"
    }
   ],
   "source": [
    "#Test the trained doc2vec model\n",
    "cosine_similarity(\n",
    "[doc2vec_model.infer_vector(extract_words(\"This is very bad video. I don't like it\"))],\n",
    "[doc2vec_model.infer_vector(extract_words(\"video sucks.\"))])"
   ]
  },
  {
   "cell_type": "code",
   "execution_count": 6,
   "metadata": {
    "collapsed": true
   },
   "outputs": [],
   "source": [
    "#Converts the comments to vector using doc2vec model trianed earlier\n",
    "def get_doc2vec(model, doc_dir,comment_col_name='Comment'):\n",
    "    comments_dfs = []\n",
    "    \n",
    "    for fname in sorted(os.listdir(doc_dir)):\n",
    "        fname_full = doc_dir + \"/\" + fname\n",
    "        print(\"file being read : {0}\".format(fname_full))\n",
    "        data = pd.read_csv(fname_full, sep='\\t', header='infer')\n",
    "        data['FNAME'] = fname\n",
    "        data['WORDS'] = data[comment_col_name].map(lambda x: extract_words(x))\n",
    "        data['SENTVECS'] = data['WORDS'].map(lambda x: model.infer_vector(x, steps=10))\n",
    "        comments_dfs.append(data)\n",
    "\n",
    "    comments = pd.concat(comments_dfs)\n",
    "    return comments"
   ]
  },
  {
   "cell_type": "code",
   "execution_count": 7,
   "metadata": {},
   "outputs": [
    {
     "name": "stdout",
     "output_type": "stream",
     "text": [
      "file being read : ../indata/eminem-not-affraid.csv\n",
      "file being read : ../indata/got8.csv\n",
      "file being read : ../indata/house-of-cards.csv\n",
      "file being read : ../indata/samsung-vr.csv\n",
      "file being read : ../indata/tonight-show.csv\n",
      "file being read : ../indata/tswift.csv\n",
      "file being read : ../indata/warriors.csv\n"
     ]
    }
   ],
   "source": [
    "doc_dir = \"../indata\"\n",
    "comments = get_doc2vec(doc2vec_model, doc_dir)"
   ]
  },
  {
   "cell_type": "code",
   "execution_count": 8,
   "metadata": {},
   "outputs": [
    {
     "data": {
      "text/html": [
       "<div>\n",
       "<style>\n",
       "    .dataframe thead tr:only-child th {\n",
       "        text-align: right;\n",
       "    }\n",
       "\n",
       "    .dataframe thead th {\n",
       "        text-align: left;\n",
       "    }\n",
       "\n",
       "    .dataframe tbody tr th {\n",
       "        vertical-align: top;\n",
       "    }\n",
       "</style>\n",
       "<table border=\"1\" class=\"dataframe\">\n",
       "  <thead>\n",
       "    <tr style=\"text-align: right;\">\n",
       "      <th></th>\n",
       "      <th>Comment</th>\n",
       "      <th>CreateTimeStamp</th>\n",
       "      <th>Type</th>\n",
       "      <th>videoID</th>\n",
       "      <th>videoTitle</th>\n",
       "      <th>FNAME</th>\n",
       "      <th>WORDS</th>\n",
       "      <th>SENTVECS</th>\n",
       "    </tr>\n",
       "  </thead>\n",
       "  <tbody>\n",
       "    <tr>\n",
       "      <th>0</th>\n",
       "      <td>Give Him Some Water Man</td>\n",
       "      <td>2018-12-03T10:11:17.000Z</td>\n",
       "      <td>Comment</td>\n",
       "      <td>j5-yKhDd64s</td>\n",
       "      <td>Eminem - Not Afraid</td>\n",
       "      <td>eminem-not-affraid.csv</td>\n",
       "      <td>[give, him, some, water, man]</td>\n",
       "      <td>[-0.084303185, 0.43828505, 0.24113432, -0.1528...</td>\n",
       "    </tr>\n",
       "    <tr>\n",
       "      <th>1</th>\n",
       "      <td>What s going on Eminem</td>\n",
       "      <td>2018-12-03T10:09:18.000Z</td>\n",
       "      <td>Comment</td>\n",
       "      <td>j5-yKhDd64s</td>\n",
       "      <td>Eminem - Not Afraid</td>\n",
       "      <td>eminem-not-affraid.csv</td>\n",
       "      <td>[what, s, going, on, eminem]</td>\n",
       "      <td>[0.14959222, -0.18436295, 0.3981964, 0.1262267...</td>\n",
       "    </tr>\n",
       "    <tr>\n",
       "      <th>2</th>\n",
       "      <td>No one can beat you</td>\n",
       "      <td>2018-12-03T09:46:24.000Z</td>\n",
       "      <td>Comment</td>\n",
       "      <td>j5-yKhDd64s</td>\n",
       "      <td>Eminem - Not Afraid</td>\n",
       "      <td>eminem-not-affraid.csv</td>\n",
       "      <td>[no, one, can, beat, you]</td>\n",
       "      <td>[-0.06286393, 0.46472645, 0.2018007, 0.1916378...</td>\n",
       "    </tr>\n",
       "    <tr>\n",
       "      <th>3</th>\n",
       "      <td>EMINEM THE ALLTIME BEST RAPPER IN THE WORLD</td>\n",
       "      <td>2018-12-03T09:45:16.000Z</td>\n",
       "      <td>Comment</td>\n",
       "      <td>j5-yKhDd64s</td>\n",
       "      <td>Eminem - Not Afraid</td>\n",
       "      <td>eminem-not-affraid.csv</td>\n",
       "      <td>[eminem, the, alltime, best, rapper, in, the, ...</td>\n",
       "      <td>[0.070282124, 0.07256028, 0.07732015, 0.011419...</td>\n",
       "    </tr>\n",
       "    <tr>\n",
       "      <th>4</th>\n",
       "      <td>Much love from india</td>\n",
       "      <td>2018-12-03T09:03:50.000Z</td>\n",
       "      <td>Comment</td>\n",
       "      <td>j5-yKhDd64s</td>\n",
       "      <td>Eminem - Not Afraid</td>\n",
       "      <td>eminem-not-affraid.csv</td>\n",
       "      <td>[much, love, from, india]</td>\n",
       "      <td>[0.16853374, 0.22485605, 0.123892896, 0.045539...</td>\n",
       "    </tr>\n",
       "  </tbody>\n",
       "</table>\n",
       "</div>"
      ],
      "text/plain": [
       "                                       Comment           CreateTimeStamp  \\\n",
       "0                      Give Him Some Water Man  2018-12-03T10:11:17.000Z   \n",
       "1                       What s going on Eminem  2018-12-03T10:09:18.000Z   \n",
       "2                          No one can beat you  2018-12-03T09:46:24.000Z   \n",
       "3  EMINEM THE ALLTIME BEST RAPPER IN THE WORLD  2018-12-03T09:45:16.000Z   \n",
       "4                         Much love from india  2018-12-03T09:03:50.000Z   \n",
       "\n",
       "      Type      videoID           videoTitle                   FNAME  \\\n",
       "0  Comment  j5-yKhDd64s  Eminem - Not Afraid  eminem-not-affraid.csv   \n",
       "1  Comment  j5-yKhDd64s  Eminem - Not Afraid  eminem-not-affraid.csv   \n",
       "2  Comment  j5-yKhDd64s  Eminem - Not Afraid  eminem-not-affraid.csv   \n",
       "3  Comment  j5-yKhDd64s  Eminem - Not Afraid  eminem-not-affraid.csv   \n",
       "4  Comment  j5-yKhDd64s  Eminem - Not Afraid  eminem-not-affraid.csv   \n",
       "\n",
       "                                               WORDS  \\\n",
       "0                      [give, him, some, water, man]   \n",
       "1                       [what, s, going, on, eminem]   \n",
       "2                          [no, one, can, beat, you]   \n",
       "3  [eminem, the, alltime, best, rapper, in, the, ...   \n",
       "4                          [much, love, from, india]   \n",
       "\n",
       "                                            SENTVECS  \n",
       "0  [-0.084303185, 0.43828505, 0.24113432, -0.1528...  \n",
       "1  [0.14959222, -0.18436295, 0.3981964, 0.1262267...  \n",
       "2  [-0.06286393, 0.46472645, 0.2018007, 0.1916378...  \n",
       "3  [0.070282124, 0.07256028, 0.07732015, 0.011419...  \n",
       "4  [0.16853374, 0.22485605, 0.123892896, 0.045539...  "
      ]
     },
     "execution_count": 8,
     "metadata": {},
     "output_type": "execute_result"
    }
   ],
   "source": [
    "comments.head(5)"
   ]
  },
  {
   "cell_type": "code",
   "execution_count": 9,
   "metadata": {},
   "outputs": [
    {
     "name": "stdout",
     "output_type": "stream",
     "text": [
      "No of files : ['eminem-not-affraid.csv' 'got8.csv' 'house-of-cards.csv' 'samsung-vr.csv'\n",
      " 'tonight-show.csv' 'tswift.csv' 'warriors.csv']\n",
      "No of Type : ['Comment' 'Reply']\n"
     ]
    }
   ],
   "source": [
    "print(\"No of files : {0}\".format(comments.FNAME.unique()))\n",
    "print(\"No of Type : {}\".format(comments.Type.unique()))"
   ]
  },
  {
   "cell_type": "code",
   "execution_count": 10,
   "metadata": {},
   "outputs": [
    {
     "name": "stderr",
     "output_type": "stream",
     "text": [
      "/anaconda/lib/python3.6/site-packages/sklearn/ensemble/weight_boosting.py:29: DeprecationWarning: numpy.core.umath_tests is an internal NumPy module and should not be imported. It will be removed in a future NumPy release.\n",
      "  from numpy.core.umath_tests import inner1d\n"
     ]
    }
   ],
   "source": [
    "trained_clf = 'doc2vec_rf.model'\n",
    "loaded_clf = joblib.load(trained_clf)"
   ]
  },
  {
   "cell_type": "code",
   "execution_count": 11,
   "metadata": {},
   "outputs": [],
   "source": [
    "comments['SENTIMENT_RF'] = loaded_clf.predict(comments['SENTVECS'].tolist())"
   ]
  },
  {
   "cell_type": "code",
   "execution_count": 12,
   "metadata": {},
   "outputs": [
    {
     "data": {
      "text/html": [
       "<div>\n",
       "<style>\n",
       "    .dataframe thead tr:only-child th {\n",
       "        text-align: right;\n",
       "    }\n",
       "\n",
       "    .dataframe thead th {\n",
       "        text-align: left;\n",
       "    }\n",
       "\n",
       "    .dataframe tbody tr th {\n",
       "        vertical-align: top;\n",
       "    }\n",
       "</style>\n",
       "<table border=\"1\" class=\"dataframe\">\n",
       "  <thead>\n",
       "    <tr style=\"text-align: right;\">\n",
       "      <th></th>\n",
       "      <th>Comment</th>\n",
       "      <th>CreateTimeStamp</th>\n",
       "      <th>Type</th>\n",
       "      <th>videoID</th>\n",
       "      <th>videoTitle</th>\n",
       "      <th>FNAME</th>\n",
       "      <th>WORDS</th>\n",
       "      <th>SENTVECS</th>\n",
       "      <th>SENTIMENT_RF</th>\n",
       "    </tr>\n",
       "  </thead>\n",
       "  <tbody>\n",
       "    <tr>\n",
       "      <th>0</th>\n",
       "      <td>Give Him Some Water Man</td>\n",
       "      <td>2018-12-03T10:11:17.000Z</td>\n",
       "      <td>Comment</td>\n",
       "      <td>j5-yKhDd64s</td>\n",
       "      <td>Eminem - Not Afraid</td>\n",
       "      <td>eminem-not-affraid.csv</td>\n",
       "      <td>[give, him, some, water, man]</td>\n",
       "      <td>[-0.084303185, 0.43828505, 0.24113432, -0.1528...</td>\n",
       "      <td>1</td>\n",
       "    </tr>\n",
       "    <tr>\n",
       "      <th>1</th>\n",
       "      <td>What s going on Eminem</td>\n",
       "      <td>2018-12-03T10:09:18.000Z</td>\n",
       "      <td>Comment</td>\n",
       "      <td>j5-yKhDd64s</td>\n",
       "      <td>Eminem - Not Afraid</td>\n",
       "      <td>eminem-not-affraid.csv</td>\n",
       "      <td>[what, s, going, on, eminem]</td>\n",
       "      <td>[0.14959222, -0.18436295, 0.3981964, 0.1262267...</td>\n",
       "      <td>0</td>\n",
       "    </tr>\n",
       "    <tr>\n",
       "      <th>2</th>\n",
       "      <td>No one can beat you</td>\n",
       "      <td>2018-12-03T09:46:24.000Z</td>\n",
       "      <td>Comment</td>\n",
       "      <td>j5-yKhDd64s</td>\n",
       "      <td>Eminem - Not Afraid</td>\n",
       "      <td>eminem-not-affraid.csv</td>\n",
       "      <td>[no, one, can, beat, you]</td>\n",
       "      <td>[-0.06286393, 0.46472645, 0.2018007, 0.1916378...</td>\n",
       "      <td>0</td>\n",
       "    </tr>\n",
       "    <tr>\n",
       "      <th>3</th>\n",
       "      <td>EMINEM THE ALLTIME BEST RAPPER IN THE WORLD</td>\n",
       "      <td>2018-12-03T09:45:16.000Z</td>\n",
       "      <td>Comment</td>\n",
       "      <td>j5-yKhDd64s</td>\n",
       "      <td>Eminem - Not Afraid</td>\n",
       "      <td>eminem-not-affraid.csv</td>\n",
       "      <td>[eminem, the, alltime, best, rapper, in, the, ...</td>\n",
       "      <td>[0.070282124, 0.07256028, 0.07732015, 0.011419...</td>\n",
       "      <td>1</td>\n",
       "    </tr>\n",
       "    <tr>\n",
       "      <th>4</th>\n",
       "      <td>Much love from india</td>\n",
       "      <td>2018-12-03T09:03:50.000Z</td>\n",
       "      <td>Comment</td>\n",
       "      <td>j5-yKhDd64s</td>\n",
       "      <td>Eminem - Not Afraid</td>\n",
       "      <td>eminem-not-affraid.csv</td>\n",
       "      <td>[much, love, from, india]</td>\n",
       "      <td>[0.16853374, 0.22485605, 0.123892896, 0.045539...</td>\n",
       "      <td>1</td>\n",
       "    </tr>\n",
       "  </tbody>\n",
       "</table>\n",
       "</div>"
      ],
      "text/plain": [
       "                                       Comment           CreateTimeStamp  \\\n",
       "0                      Give Him Some Water Man  2018-12-03T10:11:17.000Z   \n",
       "1                       What s going on Eminem  2018-12-03T10:09:18.000Z   \n",
       "2                          No one can beat you  2018-12-03T09:46:24.000Z   \n",
       "3  EMINEM THE ALLTIME BEST RAPPER IN THE WORLD  2018-12-03T09:45:16.000Z   \n",
       "4                         Much love from india  2018-12-03T09:03:50.000Z   \n",
       "\n",
       "      Type      videoID           videoTitle                   FNAME  \\\n",
       "0  Comment  j5-yKhDd64s  Eminem - Not Afraid  eminem-not-affraid.csv   \n",
       "1  Comment  j5-yKhDd64s  Eminem - Not Afraid  eminem-not-affraid.csv   \n",
       "2  Comment  j5-yKhDd64s  Eminem - Not Afraid  eminem-not-affraid.csv   \n",
       "3  Comment  j5-yKhDd64s  Eminem - Not Afraid  eminem-not-affraid.csv   \n",
       "4  Comment  j5-yKhDd64s  Eminem - Not Afraid  eminem-not-affraid.csv   \n",
       "\n",
       "                                               WORDS  \\\n",
       "0                      [give, him, some, water, man]   \n",
       "1                       [what, s, going, on, eminem]   \n",
       "2                          [no, one, can, beat, you]   \n",
       "3  [eminem, the, alltime, best, rapper, in, the, ...   \n",
       "4                          [much, love, from, india]   \n",
       "\n",
       "                                            SENTVECS  SENTIMENT_RF  \n",
       "0  [-0.084303185, 0.43828505, 0.24113432, -0.1528...             1  \n",
       "1  [0.14959222, -0.18436295, 0.3981964, 0.1262267...             0  \n",
       "2  [-0.06286393, 0.46472645, 0.2018007, 0.1916378...             0  \n",
       "3  [0.070282124, 0.07256028, 0.07732015, 0.011419...             1  \n",
       "4  [0.16853374, 0.22485605, 0.123892896, 0.045539...             1  "
      ]
     },
     "execution_count": 12,
     "metadata": {},
     "output_type": "execute_result"
    }
   ],
   "source": [
    "comments.head(5)"
   ]
  },
  {
   "cell_type": "code",
   "execution_count": 13,
   "metadata": {
    "collapsed": true
   },
   "outputs": [],
   "source": [
    "trained_clf = 'doc2vec_kn.model'\n",
    "loaded_clf = joblib.load(trained_clf)"
   ]
  },
  {
   "cell_type": "code",
   "execution_count": 14,
   "metadata": {},
   "outputs": [],
   "source": [
    "comments['SENTIMENT_KN'] = loaded_clf.predict(comments['SENTVECS'].tolist())"
   ]
  },
  {
   "cell_type": "code",
   "execution_count": 15,
   "metadata": {},
   "outputs": [
    {
     "data": {
      "text/html": [
       "<div>\n",
       "<style>\n",
       "    .dataframe thead tr:only-child th {\n",
       "        text-align: right;\n",
       "    }\n",
       "\n",
       "    .dataframe thead th {\n",
       "        text-align: left;\n",
       "    }\n",
       "\n",
       "    .dataframe tbody tr th {\n",
       "        vertical-align: top;\n",
       "    }\n",
       "</style>\n",
       "<table border=\"1\" class=\"dataframe\">\n",
       "  <thead>\n",
       "    <tr style=\"text-align: right;\">\n",
       "      <th></th>\n",
       "      <th>Comment</th>\n",
       "      <th>CreateTimeStamp</th>\n",
       "      <th>Type</th>\n",
       "      <th>videoID</th>\n",
       "      <th>videoTitle</th>\n",
       "      <th>FNAME</th>\n",
       "      <th>WORDS</th>\n",
       "      <th>SENTVECS</th>\n",
       "      <th>SENTIMENT_RF</th>\n",
       "      <th>SENTIMENT_KN</th>\n",
       "    </tr>\n",
       "  </thead>\n",
       "  <tbody>\n",
       "    <tr>\n",
       "      <th>0</th>\n",
       "      <td>Give Him Some Water Man</td>\n",
       "      <td>2018-12-03T10:11:17.000Z</td>\n",
       "      <td>Comment</td>\n",
       "      <td>j5-yKhDd64s</td>\n",
       "      <td>Eminem - Not Afraid</td>\n",
       "      <td>eminem-not-affraid.csv</td>\n",
       "      <td>[give, him, some, water, man]</td>\n",
       "      <td>[-0.084303185, 0.43828505, 0.24113432, -0.1528...</td>\n",
       "      <td>1</td>\n",
       "      <td>1</td>\n",
       "    </tr>\n",
       "    <tr>\n",
       "      <th>1</th>\n",
       "      <td>What s going on Eminem</td>\n",
       "      <td>2018-12-03T10:09:18.000Z</td>\n",
       "      <td>Comment</td>\n",
       "      <td>j5-yKhDd64s</td>\n",
       "      <td>Eminem - Not Afraid</td>\n",
       "      <td>eminem-not-affraid.csv</td>\n",
       "      <td>[what, s, going, on, eminem]</td>\n",
       "      <td>[0.14959222, -0.18436295, 0.3981964, 0.1262267...</td>\n",
       "      <td>0</td>\n",
       "      <td>0</td>\n",
       "    </tr>\n",
       "    <tr>\n",
       "      <th>2</th>\n",
       "      <td>No one can beat you</td>\n",
       "      <td>2018-12-03T09:46:24.000Z</td>\n",
       "      <td>Comment</td>\n",
       "      <td>j5-yKhDd64s</td>\n",
       "      <td>Eminem - Not Afraid</td>\n",
       "      <td>eminem-not-affraid.csv</td>\n",
       "      <td>[no, one, can, beat, you]</td>\n",
       "      <td>[-0.06286393, 0.46472645, 0.2018007, 0.1916378...</td>\n",
       "      <td>0</td>\n",
       "      <td>1</td>\n",
       "    </tr>\n",
       "    <tr>\n",
       "      <th>3</th>\n",
       "      <td>EMINEM THE ALLTIME BEST RAPPER IN THE WORLD</td>\n",
       "      <td>2018-12-03T09:45:16.000Z</td>\n",
       "      <td>Comment</td>\n",
       "      <td>j5-yKhDd64s</td>\n",
       "      <td>Eminem - Not Afraid</td>\n",
       "      <td>eminem-not-affraid.csv</td>\n",
       "      <td>[eminem, the, alltime, best, rapper, in, the, ...</td>\n",
       "      <td>[0.070282124, 0.07256028, 0.07732015, 0.011419...</td>\n",
       "      <td>1</td>\n",
       "      <td>1</td>\n",
       "    </tr>\n",
       "    <tr>\n",
       "      <th>4</th>\n",
       "      <td>Much love from india</td>\n",
       "      <td>2018-12-03T09:03:50.000Z</td>\n",
       "      <td>Comment</td>\n",
       "      <td>j5-yKhDd64s</td>\n",
       "      <td>Eminem - Not Afraid</td>\n",
       "      <td>eminem-not-affraid.csv</td>\n",
       "      <td>[much, love, from, india]</td>\n",
       "      <td>[0.16853374, 0.22485605, 0.123892896, 0.045539...</td>\n",
       "      <td>1</td>\n",
       "      <td>1</td>\n",
       "    </tr>\n",
       "  </tbody>\n",
       "</table>\n",
       "</div>"
      ],
      "text/plain": [
       "                                       Comment           CreateTimeStamp  \\\n",
       "0                      Give Him Some Water Man  2018-12-03T10:11:17.000Z   \n",
       "1                       What s going on Eminem  2018-12-03T10:09:18.000Z   \n",
       "2                          No one can beat you  2018-12-03T09:46:24.000Z   \n",
       "3  EMINEM THE ALLTIME BEST RAPPER IN THE WORLD  2018-12-03T09:45:16.000Z   \n",
       "4                         Much love from india  2018-12-03T09:03:50.000Z   \n",
       "\n",
       "      Type      videoID           videoTitle                   FNAME  \\\n",
       "0  Comment  j5-yKhDd64s  Eminem - Not Afraid  eminem-not-affraid.csv   \n",
       "1  Comment  j5-yKhDd64s  Eminem - Not Afraid  eminem-not-affraid.csv   \n",
       "2  Comment  j5-yKhDd64s  Eminem - Not Afraid  eminem-not-affraid.csv   \n",
       "3  Comment  j5-yKhDd64s  Eminem - Not Afraid  eminem-not-affraid.csv   \n",
       "4  Comment  j5-yKhDd64s  Eminem - Not Afraid  eminem-not-affraid.csv   \n",
       "\n",
       "                                               WORDS  \\\n",
       "0                      [give, him, some, water, man]   \n",
       "1                       [what, s, going, on, eminem]   \n",
       "2                          [no, one, can, beat, you]   \n",
       "3  [eminem, the, alltime, best, rapper, in, the, ...   \n",
       "4                          [much, love, from, india]   \n",
       "\n",
       "                                            SENTVECS  SENTIMENT_RF  \\\n",
       "0  [-0.084303185, 0.43828505, 0.24113432, -0.1528...             1   \n",
       "1  [0.14959222, -0.18436295, 0.3981964, 0.1262267...             0   \n",
       "2  [-0.06286393, 0.46472645, 0.2018007, 0.1916378...             0   \n",
       "3  [0.070282124, 0.07256028, 0.07732015, 0.011419...             1   \n",
       "4  [0.16853374, 0.22485605, 0.123892896, 0.045539...             1   \n",
       "\n",
       "   SENTIMENT_KN  \n",
       "0             1  \n",
       "1             0  \n",
       "2             1  \n",
       "3             1  \n",
       "4             1  "
      ]
     },
     "execution_count": 15,
     "metadata": {},
     "output_type": "execute_result"
    }
   ],
   "source": [
    "comments.head(5)"
   ]
  },
  {
   "cell_type": "code",
   "execution_count": 16,
   "metadata": {},
   "outputs": [],
   "source": [
    "out_df = comments[['Comment','CreateTimeStamp','Type', 'videoID', 'videoTitle', 'FNAME','SENTIMENT_RF','SENTIMENT_KN']]"
   ]
  },
  {
   "cell_type": "code",
   "execution_count": 17,
   "metadata": {},
   "outputs": [
    {
     "data": {
      "text/html": [
       "<div>\n",
       "<style>\n",
       "    .dataframe thead tr:only-child th {\n",
       "        text-align: right;\n",
       "    }\n",
       "\n",
       "    .dataframe thead th {\n",
       "        text-align: left;\n",
       "    }\n",
       "\n",
       "    .dataframe tbody tr th {\n",
       "        vertical-align: top;\n",
       "    }\n",
       "</style>\n",
       "<table border=\"1\" class=\"dataframe\">\n",
       "  <thead>\n",
       "    <tr style=\"text-align: right;\">\n",
       "      <th></th>\n",
       "      <th>Comment</th>\n",
       "      <th>CreateTimeStamp</th>\n",
       "      <th>Type</th>\n",
       "      <th>videoID</th>\n",
       "      <th>videoTitle</th>\n",
       "      <th>FNAME</th>\n",
       "      <th>SENTIMENT_RF</th>\n",
       "      <th>SENTIMENT_KN</th>\n",
       "    </tr>\n",
       "  </thead>\n",
       "  <tbody>\n",
       "    <tr>\n",
       "      <th>0</th>\n",
       "      <td>Give Him Some Water Man</td>\n",
       "      <td>2018-12-03T10:11:17.000Z</td>\n",
       "      <td>Comment</td>\n",
       "      <td>j5-yKhDd64s</td>\n",
       "      <td>Eminem - Not Afraid</td>\n",
       "      <td>eminem-not-affraid.csv</td>\n",
       "      <td>1</td>\n",
       "      <td>1</td>\n",
       "    </tr>\n",
       "    <tr>\n",
       "      <th>1</th>\n",
       "      <td>What s going on Eminem</td>\n",
       "      <td>2018-12-03T10:09:18.000Z</td>\n",
       "      <td>Comment</td>\n",
       "      <td>j5-yKhDd64s</td>\n",
       "      <td>Eminem - Not Afraid</td>\n",
       "      <td>eminem-not-affraid.csv</td>\n",
       "      <td>0</td>\n",
       "      <td>0</td>\n",
       "    </tr>\n",
       "    <tr>\n",
       "      <th>2</th>\n",
       "      <td>No one can beat you</td>\n",
       "      <td>2018-12-03T09:46:24.000Z</td>\n",
       "      <td>Comment</td>\n",
       "      <td>j5-yKhDd64s</td>\n",
       "      <td>Eminem - Not Afraid</td>\n",
       "      <td>eminem-not-affraid.csv</td>\n",
       "      <td>0</td>\n",
       "      <td>1</td>\n",
       "    </tr>\n",
       "    <tr>\n",
       "      <th>3</th>\n",
       "      <td>EMINEM THE ALLTIME BEST RAPPER IN THE WORLD</td>\n",
       "      <td>2018-12-03T09:45:16.000Z</td>\n",
       "      <td>Comment</td>\n",
       "      <td>j5-yKhDd64s</td>\n",
       "      <td>Eminem - Not Afraid</td>\n",
       "      <td>eminem-not-affraid.csv</td>\n",
       "      <td>1</td>\n",
       "      <td>1</td>\n",
       "    </tr>\n",
       "    <tr>\n",
       "      <th>4</th>\n",
       "      <td>Much love from india</td>\n",
       "      <td>2018-12-03T09:03:50.000Z</td>\n",
       "      <td>Comment</td>\n",
       "      <td>j5-yKhDd64s</td>\n",
       "      <td>Eminem - Not Afraid</td>\n",
       "      <td>eminem-not-affraid.csv</td>\n",
       "      <td>1</td>\n",
       "      <td>1</td>\n",
       "    </tr>\n",
       "  </tbody>\n",
       "</table>\n",
       "</div>"
      ],
      "text/plain": [
       "                                       Comment           CreateTimeStamp  \\\n",
       "0                      Give Him Some Water Man  2018-12-03T10:11:17.000Z   \n",
       "1                       What s going on Eminem  2018-12-03T10:09:18.000Z   \n",
       "2                          No one can beat you  2018-12-03T09:46:24.000Z   \n",
       "3  EMINEM THE ALLTIME BEST RAPPER IN THE WORLD  2018-12-03T09:45:16.000Z   \n",
       "4                         Much love from india  2018-12-03T09:03:50.000Z   \n",
       "\n",
       "      Type      videoID           videoTitle                   FNAME  \\\n",
       "0  Comment  j5-yKhDd64s  Eminem - Not Afraid  eminem-not-affraid.csv   \n",
       "1  Comment  j5-yKhDd64s  Eminem - Not Afraid  eminem-not-affraid.csv   \n",
       "2  Comment  j5-yKhDd64s  Eminem - Not Afraid  eminem-not-affraid.csv   \n",
       "3  Comment  j5-yKhDd64s  Eminem - Not Afraid  eminem-not-affraid.csv   \n",
       "4  Comment  j5-yKhDd64s  Eminem - Not Afraid  eminem-not-affraid.csv   \n",
       "\n",
       "   SENTIMENT_RF  SENTIMENT_KN  \n",
       "0             1             1  \n",
       "1             0             0  \n",
       "2             0             1  \n",
       "3             1             1  \n",
       "4             1             1  "
      ]
     },
     "execution_count": 17,
     "metadata": {},
     "output_type": "execute_result"
    }
   ],
   "source": [
    "out_df.head(5)"
   ]
  },
  {
   "cell_type": "code",
   "execution_count": 18,
   "metadata": {
    "collapsed": true
   },
   "outputs": [],
   "source": [
    "out_file_name = '../outdata/video_comments_analysis_sentiments.csv'\n",
    "out_df.to_csv(out_file_name, sep='\\t', index=False)"
   ]
  },
  {
   "cell_type": "code",
   "execution_count": 19,
   "metadata": {},
   "outputs": [
    {
     "name": "stdout",
     "output_type": "stream",
     "text": [
      "****End of script****\n"
     ]
    }
   ],
   "source": [
    "print('****End of script****')"
   ]
  }
 ],
 "metadata": {
  "kernelspec": {
   "display_name": "Python 3",
   "language": "python",
   "name": "python3"
  },
  "language_info": {
   "codemirror_mode": {
    "name": "ipython",
    "version": 3
   },
   "file_extension": ".py",
   "mimetype": "text/x-python",
   "name": "python",
   "nbconvert_exporter": "python",
   "pygments_lexer": "ipython3",
   "version": "3.6.2"
  }
 },
 "nbformat": 4,
 "nbformat_minor": 2
}
