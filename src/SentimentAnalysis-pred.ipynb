{
 "cells": [
  {
   "cell_type": "markdown",
   "metadata": {},
   "source": [
    "### Load the model and make prediction\n",
    "##### Input Args:\n",
    "\n",
    "doc_dir = directory where the file with comments to be predicted\n",
    "\n",
    "doc2vec_model_name = doc2vec model already trained\n",
    "\n",
    "trained_clf = Trained classifier\n"
   ]
  },
  {
   "cell_type": "code",
   "execution_count": 9,
   "metadata": {
    "collapsed": true
   },
   "outputs": [],
   "source": [
    "from gensim.models import Doc2Vec\n",
    "import re\n",
    "import os\n",
    "import random\n",
    "from sklearn import metrics\n",
    "import numpy as np\n",
    "import pandas as pd\n",
    "from sklearn.externals import joblib\n",
    "from sklearn.metrics.pairwise import cosine_similarity\n",
    "import pickle"
   ]
  },
  {
   "cell_type": "code",
   "execution_count": 10,
   "metadata": {
    "collapsed": true
   },
   "outputs": [],
   "source": [
    "import warnings\n",
    "warnings.simplefilter(action='ignore', category=FutureWarning)"
   ]
  },
  {
   "cell_type": "code",
   "execution_count": 11,
   "metadata": {
    "collapsed": true
   },
   "outputs": [],
   "source": [
    "def extract_words(sent):\n",
    "    #print(\"line tokenizing : \\n{0}\".format(sent))\n",
    "    sent = sent.lower()\n",
    "    sent = re.sub(r'<[^>]+>', ' ', sent) #strip html tags\n",
    "    sent = re.sub(r'(\\w)\\'(\\w)', '\\1\\2', sent) # remoce apostrophes\n",
    "    sent = re.sub(r'\\W',' ', sent) # remove punctuation\n",
    "    sent = re.sub(r'\\s+', ' ', sent) # remove repeated space\n",
    "    sent = sent.strip()\n",
    "    return sent.split()"
   ]
  },
  {
   "cell_type": "code",
   "execution_count": 12,
   "metadata": {
    "collapsed": true
   },
   "outputs": [],
   "source": [
    "proj_root = os.path.dirname(os.getcwd())\n",
    "#print(\"Current working dir : {0}\".format(proj_root))"
   ]
  },
  {
   "cell_type": "code",
   "execution_count": 13,
   "metadata": {
    "collapsed": true
   },
   "outputs": [],
   "source": [
    "model_dir = proj_root + \"/\" + \"model\"\n",
    "doc2vec_model = model_dir + \"/\" + 'comments.d2v'\n",
    "\n",
    "#Load doc to vec model\n",
    "doc2vec_model = Doc2Vec.load(doc2vec_model)"
   ]
  },
  {
   "cell_type": "code",
   "execution_count": 14,
   "metadata": {},
   "outputs": [
    {
     "data": {
      "text/plain": [
       "array([[0.7391128]], dtype=float32)"
      ]
     },
     "execution_count": 14,
     "metadata": {},
     "output_type": "execute_result"
    }
   ],
   "source": [
    "#Test the trained doc2vec model\n",
    "cosine_similarity(\n",
    "[doc2vec_model.infer_vector(extract_words(\"This is really exciting video. Thank you for presenting to us.\"))],\n",
    "[doc2vec_model.infer_vector(extract_words(\"Exciting video. Keep it coming\"))])"
   ]
  },
  {
   "cell_type": "code",
   "execution_count": 15,
   "metadata": {
    "collapsed": true
   },
   "outputs": [],
   "source": [
    "#Converts the comments to vector using doc2vec model trianed earlier\n",
    "def get_doc2vec(model, doc_dir,comment_col_name='Comment'):\n",
    "    comments_dfs = []\n",
    "    \n",
    "    for fname in sorted(os.listdir(doc_dir)):\n",
    "        fname_full = doc_dir + \"/\" + fname\n",
    "        print(\"file being read : {0}\".format(fname_full))\n",
    "        data = pd.read_csv(fname_full, sep='\\t', header='infer')\n",
    "        data['FNAME'] = fname\n",
    "        data['WORDS'] = data[comment_col_name].map(lambda x: extract_words(x))\n",
    "        data['SENTVECS'] = data['WORDS'].map(lambda x: model.infer_vector(x, steps=10))\n",
    "        comments_dfs.append(data)\n",
    "\n",
    "    comments = pd.concat(comments_dfs)\n",
    "    return comments"
   ]
  },
  {
   "cell_type": "code",
   "execution_count": 16,
   "metadata": {},
   "outputs": [
    {
     "name": "stdout",
     "output_type": "stream",
     "text": [
      "file being read : ../indata/EdSheeran.csv\n",
      "file being read : ../indata/Maroon5.csv\n",
      "file being read : ../indata/SuperBowlLI.csv\n",
      "file being read : ../indata/bing-bang-theory.csv\n",
      "file being read : ../indata/bitcoin-vs-ethereum.csv\n",
      "file being read : ../indata/coldpay.csv\n",
      "file being read : ../indata/eminem-not-affraid.csv\n",
      "file being read : ../indata/federer-rafael.csv\n",
      "file being read : ../indata/formula1-2018.csv\n",
      "file being read : ../indata/got8.csv\n",
      "file being read : ../indata/house-of-cards.csv\n",
      "file being read : ../indata/iphone-xs-vs-note9.csv\n",
      "file being read : ../indata/mac-vs-windows.csv\n",
      "file being read : ../indata/nfl-highlights.csv\n",
      "file being read : ../indata/oculus.csv\n",
      "file being read : ../indata/samsung-vr.csv\n",
      "file being read : ../indata/tonight-show.csv\n",
      "file being read : ../indata/tswift.csv\n",
      "file being read : ../indata/warriors.csv\n"
     ]
    }
   ],
   "source": [
    "doc_dir = \"../indata\"\n",
    "comments = get_doc2vec(doc2vec_model, doc_dir)"
   ]
  },
  {
   "cell_type": "code",
   "execution_count": 17,
   "metadata": {},
   "outputs": [
    {
     "data": {
      "text/html": [
       "<div>\n",
       "<style>\n",
       "    .dataframe thead tr:only-child th {\n",
       "        text-align: right;\n",
       "    }\n",
       "\n",
       "    .dataframe thead th {\n",
       "        text-align: left;\n",
       "    }\n",
       "\n",
       "    .dataframe tbody tr th {\n",
       "        vertical-align: top;\n",
       "    }\n",
       "</style>\n",
       "<table border=\"1\" class=\"dataframe\">\n",
       "  <thead>\n",
       "    <tr style=\"text-align: right;\">\n",
       "      <th></th>\n",
       "      <th>Comment</th>\n",
       "      <th>CommentID</th>\n",
       "      <th>CreateTimeStamp</th>\n",
       "      <th>Type</th>\n",
       "      <th>videoID</th>\n",
       "      <th>videoTitle</th>\n",
       "      <th>FNAME</th>\n",
       "      <th>WORDS</th>\n",
       "      <th>SENTVECS</th>\n",
       "    </tr>\n",
       "  </thead>\n",
       "  <tbody>\n",
       "    <tr>\n",
       "      <th>0</th>\n",
       "      <td>Like maroon Comment ed sheeran</td>\n",
       "      <td>UgxD46CBoJVhQCAibLp4AaABAg</td>\n",
       "      <td>2018-12-08T02:32:48.000Z</td>\n",
       "      <td>Comment</td>\n",
       "      <td>2Vv-BfVoq4g</td>\n",
       "      <td>Ed Sheeran - Perfect (Official Music Video)</td>\n",
       "      <td>EdSheeran.csv</td>\n",
       "      <td>[like, maroon, comment, ed, sheeran]</td>\n",
       "      <td>[0.10038329, -0.0014675149, 0.03223283, -0.225...</td>\n",
       "    </tr>\n",
       "    <tr>\n",
       "      <th>1</th>\n",
       "      <td>Its Legendary December</td>\n",
       "      <td>Ugx91N6QKBVsR24qOH94AaABAg</td>\n",
       "      <td>2018-12-08T02:31:02.000Z</td>\n",
       "      <td>Comment</td>\n",
       "      <td>2Vv-BfVoq4g</td>\n",
       "      <td>Ed Sheeran - Perfect (Official Music Video)</td>\n",
       "      <td>EdSheeran.csv</td>\n",
       "      <td>[its, legendary, december]</td>\n",
       "      <td>[-0.008494277, -0.008857365, -0.06353382, -0.0...</td>\n",
       "    </tr>\n",
       "    <tr>\n",
       "      <th>2</th>\n",
       "      <td>Feelings so deep in feelings</td>\n",
       "      <td>UgzG83e-1TszyKCMO8F4AaABAg</td>\n",
       "      <td>2018-12-08T02:28:16.000Z</td>\n",
       "      <td>Comment</td>\n",
       "      <td>2Vv-BfVoq4g</td>\n",
       "      <td>Ed Sheeran - Perfect (Official Music Video)</td>\n",
       "      <td>EdSheeran.csv</td>\n",
       "      <td>[feelings, so, deep, in, feelings]</td>\n",
       "      <td>[0.23715904, 0.11488962, 0.0027810452, 0.22044...</td>\n",
       "    </tr>\n",
       "    <tr>\n",
       "      <th>3</th>\n",
       "      <td>I love your songs seriously I would like to me...</td>\n",
       "      <td>UgydHSuRFNFux7vGSQ94AaABAg</td>\n",
       "      <td>2018-12-08T02:20:23.000Z</td>\n",
       "      <td>Comment</td>\n",
       "      <td>2Vv-BfVoq4g</td>\n",
       "      <td>Ed Sheeran - Perfect (Official Music Video)</td>\n",
       "      <td>EdSheeran.csv</td>\n",
       "      <td>[i, love, your, songs, seriously, i, would, li...</td>\n",
       "      <td>[0.79949605, 0.7708359, 0.24607134, -0.2334915...</td>\n",
       "    </tr>\n",
       "    <tr>\n",
       "      <th>4</th>\n",
       "      <td>I love it</td>\n",
       "      <td>UgwTYwXgN9KGAB7WIaN4AaABAg</td>\n",
       "      <td>2018-12-08T02:13:49.000Z</td>\n",
       "      <td>Comment</td>\n",
       "      <td>2Vv-BfVoq4g</td>\n",
       "      <td>Ed Sheeran - Perfect (Official Music Video)</td>\n",
       "      <td>EdSheeran.csv</td>\n",
       "      <td>[i, love, it]</td>\n",
       "      <td>[0.057383023, 0.14928776, 0.007573689, 0.01369...</td>\n",
       "    </tr>\n",
       "  </tbody>\n",
       "</table>\n",
       "</div>"
      ],
      "text/plain": [
       "                                             Comment  \\\n",
       "0                     Like maroon Comment ed sheeran   \n",
       "1                             Its Legendary December   \n",
       "2                       Feelings so deep in feelings   \n",
       "3  I love your songs seriously I would like to me...   \n",
       "4                                          I love it   \n",
       "\n",
       "                    CommentID           CreateTimeStamp     Type      videoID  \\\n",
       "0  UgxD46CBoJVhQCAibLp4AaABAg  2018-12-08T02:32:48.000Z  Comment  2Vv-BfVoq4g   \n",
       "1  Ugx91N6QKBVsR24qOH94AaABAg  2018-12-08T02:31:02.000Z  Comment  2Vv-BfVoq4g   \n",
       "2  UgzG83e-1TszyKCMO8F4AaABAg  2018-12-08T02:28:16.000Z  Comment  2Vv-BfVoq4g   \n",
       "3  UgydHSuRFNFux7vGSQ94AaABAg  2018-12-08T02:20:23.000Z  Comment  2Vv-BfVoq4g   \n",
       "4  UgwTYwXgN9KGAB7WIaN4AaABAg  2018-12-08T02:13:49.000Z  Comment  2Vv-BfVoq4g   \n",
       "\n",
       "                                    videoTitle          FNAME  \\\n",
       "0  Ed Sheeran - Perfect (Official Music Video)  EdSheeran.csv   \n",
       "1  Ed Sheeran - Perfect (Official Music Video)  EdSheeran.csv   \n",
       "2  Ed Sheeran - Perfect (Official Music Video)  EdSheeran.csv   \n",
       "3  Ed Sheeran - Perfect (Official Music Video)  EdSheeran.csv   \n",
       "4  Ed Sheeran - Perfect (Official Music Video)  EdSheeran.csv   \n",
       "\n",
       "                                               WORDS  \\\n",
       "0               [like, maroon, comment, ed, sheeran]   \n",
       "1                         [its, legendary, december]   \n",
       "2                 [feelings, so, deep, in, feelings]   \n",
       "3  [i, love, your, songs, seriously, i, would, li...   \n",
       "4                                      [i, love, it]   \n",
       "\n",
       "                                            SENTVECS  \n",
       "0  [0.10038329, -0.0014675149, 0.03223283, -0.225...  \n",
       "1  [-0.008494277, -0.008857365, -0.06353382, -0.0...  \n",
       "2  [0.23715904, 0.11488962, 0.0027810452, 0.22044...  \n",
       "3  [0.79949605, 0.7708359, 0.24607134, -0.2334915...  \n",
       "4  [0.057383023, 0.14928776, 0.007573689, 0.01369...  "
      ]
     },
     "execution_count": 17,
     "metadata": {},
     "output_type": "execute_result"
    }
   ],
   "source": [
    "comments.head(5)"
   ]
  },
  {
   "cell_type": "code",
   "execution_count": 18,
   "metadata": {},
   "outputs": [
    {
     "name": "stdout",
     "output_type": "stream",
     "text": [
      "No of files : ['EdSheeran.csv' 'Maroon5.csv' 'SuperBowlLI.csv' 'bing-bang-theory.csv'\n",
      " 'bitcoin-vs-ethereum.csv' 'coldpay.csv' 'eminem-not-affraid.csv'\n",
      " 'federer-rafael.csv' 'formula1-2018.csv' 'got8.csv' 'house-of-cards.csv'\n",
      " 'iphone-xs-vs-note9.csv' 'mac-vs-windows.csv' 'nfl-highlights.csv'\n",
      " 'oculus.csv' 'samsung-vr.csv' 'tonight-show.csv' 'tswift.csv'\n",
      " 'warriors.csv']\n",
      "No of Type : ['Comment' 'Reply']\n"
     ]
    }
   ],
   "source": [
    "print(\"No of files : {0}\".format(comments.FNAME.unique()))\n",
    "print(\"No of Type : {}\".format(comments.Type.unique()))"
   ]
  },
  {
   "cell_type": "code",
   "execution_count": 19,
   "metadata": {},
   "outputs": [
    {
     "name": "stdout",
     "output_type": "stream",
     "text": [
      "Number of qnique videos : 916\n"
     ]
    }
   ],
   "source": [
    "print(\"Number of qnique videos : {0}\".format(len(comments.videoID.unique())))"
   ]
  },
  {
   "cell_type": "code",
   "execution_count": 21,
   "metadata": {
    "collapsed": true
   },
   "outputs": [],
   "source": [
    "trained_clf = model_dir + \"/\" + 'doc2vec_senti_rf.model'\n",
    "loaded_clf = joblib.load(trained_clf)"
   ]
  },
  {
   "cell_type": "code",
   "execution_count": 22,
   "metadata": {
    "collapsed": true
   },
   "outputs": [],
   "source": [
    "comments['SENTIMENT_RF'] = loaded_clf.predict(comments['SENTVECS'].tolist())"
   ]
  },
  {
   "cell_type": "code",
   "execution_count": 23,
   "metadata": {},
   "outputs": [
    {
     "data": {
      "text/html": [
       "<div>\n",
       "<style>\n",
       "    .dataframe thead tr:only-child th {\n",
       "        text-align: right;\n",
       "    }\n",
       "\n",
       "    .dataframe thead th {\n",
       "        text-align: left;\n",
       "    }\n",
       "\n",
       "    .dataframe tbody tr th {\n",
       "        vertical-align: top;\n",
       "    }\n",
       "</style>\n",
       "<table border=\"1\" class=\"dataframe\">\n",
       "  <thead>\n",
       "    <tr style=\"text-align: right;\">\n",
       "      <th></th>\n",
       "      <th>Comment</th>\n",
       "      <th>CommentID</th>\n",
       "      <th>CreateTimeStamp</th>\n",
       "      <th>Type</th>\n",
       "      <th>videoID</th>\n",
       "      <th>videoTitle</th>\n",
       "      <th>FNAME</th>\n",
       "      <th>WORDS</th>\n",
       "      <th>SENTVECS</th>\n",
       "      <th>SENTIMENT_RF</th>\n",
       "    </tr>\n",
       "  </thead>\n",
       "  <tbody>\n",
       "    <tr>\n",
       "      <th>0</th>\n",
       "      <td>Like maroon Comment ed sheeran</td>\n",
       "      <td>UgxD46CBoJVhQCAibLp4AaABAg</td>\n",
       "      <td>2018-12-08T02:32:48.000Z</td>\n",
       "      <td>Comment</td>\n",
       "      <td>2Vv-BfVoq4g</td>\n",
       "      <td>Ed Sheeran - Perfect (Official Music Video)</td>\n",
       "      <td>EdSheeran.csv</td>\n",
       "      <td>[like, maroon, comment, ed, sheeran]</td>\n",
       "      <td>[0.10038329, -0.0014675149, 0.03223283, -0.225...</td>\n",
       "      <td>0</td>\n",
       "    </tr>\n",
       "    <tr>\n",
       "      <th>1</th>\n",
       "      <td>Its Legendary December</td>\n",
       "      <td>Ugx91N6QKBVsR24qOH94AaABAg</td>\n",
       "      <td>2018-12-08T02:31:02.000Z</td>\n",
       "      <td>Comment</td>\n",
       "      <td>2Vv-BfVoq4g</td>\n",
       "      <td>Ed Sheeran - Perfect (Official Music Video)</td>\n",
       "      <td>EdSheeran.csv</td>\n",
       "      <td>[its, legendary, december]</td>\n",
       "      <td>[-0.008494277, -0.008857365, -0.06353382, -0.0...</td>\n",
       "      <td>1</td>\n",
       "    </tr>\n",
       "    <tr>\n",
       "      <th>2</th>\n",
       "      <td>Feelings so deep in feelings</td>\n",
       "      <td>UgzG83e-1TszyKCMO8F4AaABAg</td>\n",
       "      <td>2018-12-08T02:28:16.000Z</td>\n",
       "      <td>Comment</td>\n",
       "      <td>2Vv-BfVoq4g</td>\n",
       "      <td>Ed Sheeran - Perfect (Official Music Video)</td>\n",
       "      <td>EdSheeran.csv</td>\n",
       "      <td>[feelings, so, deep, in, feelings]</td>\n",
       "      <td>[0.23715904, 0.11488962, 0.0027810452, 0.22044...</td>\n",
       "      <td>1</td>\n",
       "    </tr>\n",
       "    <tr>\n",
       "      <th>3</th>\n",
       "      <td>I love your songs seriously I would like to me...</td>\n",
       "      <td>UgydHSuRFNFux7vGSQ94AaABAg</td>\n",
       "      <td>2018-12-08T02:20:23.000Z</td>\n",
       "      <td>Comment</td>\n",
       "      <td>2Vv-BfVoq4g</td>\n",
       "      <td>Ed Sheeran - Perfect (Official Music Video)</td>\n",
       "      <td>EdSheeran.csv</td>\n",
       "      <td>[i, love, your, songs, seriously, i, would, li...</td>\n",
       "      <td>[0.79949605, 0.7708359, 0.24607134, -0.2334915...</td>\n",
       "      <td>1</td>\n",
       "    </tr>\n",
       "    <tr>\n",
       "      <th>4</th>\n",
       "      <td>I love it</td>\n",
       "      <td>UgwTYwXgN9KGAB7WIaN4AaABAg</td>\n",
       "      <td>2018-12-08T02:13:49.000Z</td>\n",
       "      <td>Comment</td>\n",
       "      <td>2Vv-BfVoq4g</td>\n",
       "      <td>Ed Sheeran - Perfect (Official Music Video)</td>\n",
       "      <td>EdSheeran.csv</td>\n",
       "      <td>[i, love, it]</td>\n",
       "      <td>[0.057383023, 0.14928776, 0.007573689, 0.01369...</td>\n",
       "      <td>1</td>\n",
       "    </tr>\n",
       "  </tbody>\n",
       "</table>\n",
       "</div>"
      ],
      "text/plain": [
       "                                             Comment  \\\n",
       "0                     Like maroon Comment ed sheeran   \n",
       "1                             Its Legendary December   \n",
       "2                       Feelings so deep in feelings   \n",
       "3  I love your songs seriously I would like to me...   \n",
       "4                                          I love it   \n",
       "\n",
       "                    CommentID           CreateTimeStamp     Type      videoID  \\\n",
       "0  UgxD46CBoJVhQCAibLp4AaABAg  2018-12-08T02:32:48.000Z  Comment  2Vv-BfVoq4g   \n",
       "1  Ugx91N6QKBVsR24qOH94AaABAg  2018-12-08T02:31:02.000Z  Comment  2Vv-BfVoq4g   \n",
       "2  UgzG83e-1TszyKCMO8F4AaABAg  2018-12-08T02:28:16.000Z  Comment  2Vv-BfVoq4g   \n",
       "3  UgydHSuRFNFux7vGSQ94AaABAg  2018-12-08T02:20:23.000Z  Comment  2Vv-BfVoq4g   \n",
       "4  UgwTYwXgN9KGAB7WIaN4AaABAg  2018-12-08T02:13:49.000Z  Comment  2Vv-BfVoq4g   \n",
       "\n",
       "                                    videoTitle          FNAME  \\\n",
       "0  Ed Sheeran - Perfect (Official Music Video)  EdSheeran.csv   \n",
       "1  Ed Sheeran - Perfect (Official Music Video)  EdSheeran.csv   \n",
       "2  Ed Sheeran - Perfect (Official Music Video)  EdSheeran.csv   \n",
       "3  Ed Sheeran - Perfect (Official Music Video)  EdSheeran.csv   \n",
       "4  Ed Sheeran - Perfect (Official Music Video)  EdSheeran.csv   \n",
       "\n",
       "                                               WORDS  \\\n",
       "0               [like, maroon, comment, ed, sheeran]   \n",
       "1                         [its, legendary, december]   \n",
       "2                 [feelings, so, deep, in, feelings]   \n",
       "3  [i, love, your, songs, seriously, i, would, li...   \n",
       "4                                      [i, love, it]   \n",
       "\n",
       "                                            SENTVECS  SENTIMENT_RF  \n",
       "0  [0.10038329, -0.0014675149, 0.03223283, -0.225...             0  \n",
       "1  [-0.008494277, -0.008857365, -0.06353382, -0.0...             1  \n",
       "2  [0.23715904, 0.11488962, 0.0027810452, 0.22044...             1  \n",
       "3  [0.79949605, 0.7708359, 0.24607134, -0.2334915...             1  \n",
       "4  [0.057383023, 0.14928776, 0.007573689, 0.01369...             1  "
      ]
     },
     "execution_count": 23,
     "metadata": {},
     "output_type": "execute_result"
    }
   ],
   "source": [
    "comments.head(5)"
   ]
  },
  {
   "cell_type": "code",
   "execution_count": 24,
   "metadata": {},
   "outputs": [],
   "source": [
    "trained_clf = model_dir + \"/\" + 'doc2vec_senti_kn.model'\n",
    "loaded_clf = joblib.load(trained_clf)"
   ]
  },
  {
   "cell_type": "code",
   "execution_count": 25,
   "metadata": {},
   "outputs": [],
   "source": [
    "comments['SENTIMENT_KN'] = loaded_clf.predict(comments['SENTVECS'].tolist())"
   ]
  },
  {
   "cell_type": "code",
   "execution_count": 26,
   "metadata": {},
   "outputs": [
    {
     "data": {
      "text/html": [
       "<div>\n",
       "<style>\n",
       "    .dataframe thead tr:only-child th {\n",
       "        text-align: right;\n",
       "    }\n",
       "\n",
       "    .dataframe thead th {\n",
       "        text-align: left;\n",
       "    }\n",
       "\n",
       "    .dataframe tbody tr th {\n",
       "        vertical-align: top;\n",
       "    }\n",
       "</style>\n",
       "<table border=\"1\" class=\"dataframe\">\n",
       "  <thead>\n",
       "    <tr style=\"text-align: right;\">\n",
       "      <th></th>\n",
       "      <th>Comment</th>\n",
       "      <th>CommentID</th>\n",
       "      <th>CreateTimeStamp</th>\n",
       "      <th>Type</th>\n",
       "      <th>videoID</th>\n",
       "      <th>videoTitle</th>\n",
       "      <th>FNAME</th>\n",
       "      <th>WORDS</th>\n",
       "      <th>SENTVECS</th>\n",
       "      <th>SENTIMENT_RF</th>\n",
       "      <th>SENTIMENT_KN</th>\n",
       "    </tr>\n",
       "  </thead>\n",
       "  <tbody>\n",
       "    <tr>\n",
       "      <th>0</th>\n",
       "      <td>Like maroon Comment ed sheeran</td>\n",
       "      <td>UgxD46CBoJVhQCAibLp4AaABAg</td>\n",
       "      <td>2018-12-08T02:32:48.000Z</td>\n",
       "      <td>Comment</td>\n",
       "      <td>2Vv-BfVoq4g</td>\n",
       "      <td>Ed Sheeran - Perfect (Official Music Video)</td>\n",
       "      <td>EdSheeran.csv</td>\n",
       "      <td>[like, maroon, comment, ed, sheeran]</td>\n",
       "      <td>[0.10038329, -0.0014675149, 0.03223283, -0.225...</td>\n",
       "      <td>0</td>\n",
       "      <td>0</td>\n",
       "    </tr>\n",
       "    <tr>\n",
       "      <th>1</th>\n",
       "      <td>Its Legendary December</td>\n",
       "      <td>Ugx91N6QKBVsR24qOH94AaABAg</td>\n",
       "      <td>2018-12-08T02:31:02.000Z</td>\n",
       "      <td>Comment</td>\n",
       "      <td>2Vv-BfVoq4g</td>\n",
       "      <td>Ed Sheeran - Perfect (Official Music Video)</td>\n",
       "      <td>EdSheeran.csv</td>\n",
       "      <td>[its, legendary, december]</td>\n",
       "      <td>[-0.008494277, -0.008857365, -0.06353382, -0.0...</td>\n",
       "      <td>1</td>\n",
       "      <td>1</td>\n",
       "    </tr>\n",
       "    <tr>\n",
       "      <th>2</th>\n",
       "      <td>Feelings so deep in feelings</td>\n",
       "      <td>UgzG83e-1TszyKCMO8F4AaABAg</td>\n",
       "      <td>2018-12-08T02:28:16.000Z</td>\n",
       "      <td>Comment</td>\n",
       "      <td>2Vv-BfVoq4g</td>\n",
       "      <td>Ed Sheeran - Perfect (Official Music Video)</td>\n",
       "      <td>EdSheeran.csv</td>\n",
       "      <td>[feelings, so, deep, in, feelings]</td>\n",
       "      <td>[0.23715904, 0.11488962, 0.0027810452, 0.22044...</td>\n",
       "      <td>1</td>\n",
       "      <td>1</td>\n",
       "    </tr>\n",
       "    <tr>\n",
       "      <th>3</th>\n",
       "      <td>I love your songs seriously I would like to me...</td>\n",
       "      <td>UgydHSuRFNFux7vGSQ94AaABAg</td>\n",
       "      <td>2018-12-08T02:20:23.000Z</td>\n",
       "      <td>Comment</td>\n",
       "      <td>2Vv-BfVoq4g</td>\n",
       "      <td>Ed Sheeran - Perfect (Official Music Video)</td>\n",
       "      <td>EdSheeran.csv</td>\n",
       "      <td>[i, love, your, songs, seriously, i, would, li...</td>\n",
       "      <td>[0.79949605, 0.7708359, 0.24607134, -0.2334915...</td>\n",
       "      <td>1</td>\n",
       "      <td>1</td>\n",
       "    </tr>\n",
       "    <tr>\n",
       "      <th>4</th>\n",
       "      <td>I love it</td>\n",
       "      <td>UgwTYwXgN9KGAB7WIaN4AaABAg</td>\n",
       "      <td>2018-12-08T02:13:49.000Z</td>\n",
       "      <td>Comment</td>\n",
       "      <td>2Vv-BfVoq4g</td>\n",
       "      <td>Ed Sheeran - Perfect (Official Music Video)</td>\n",
       "      <td>EdSheeran.csv</td>\n",
       "      <td>[i, love, it]</td>\n",
       "      <td>[0.057383023, 0.14928776, 0.007573689, 0.01369...</td>\n",
       "      <td>1</td>\n",
       "      <td>1</td>\n",
       "    </tr>\n",
       "  </tbody>\n",
       "</table>\n",
       "</div>"
      ],
      "text/plain": [
       "                                             Comment  \\\n",
       "0                     Like maroon Comment ed sheeran   \n",
       "1                             Its Legendary December   \n",
       "2                       Feelings so deep in feelings   \n",
       "3  I love your songs seriously I would like to me...   \n",
       "4                                          I love it   \n",
       "\n",
       "                    CommentID           CreateTimeStamp     Type      videoID  \\\n",
       "0  UgxD46CBoJVhQCAibLp4AaABAg  2018-12-08T02:32:48.000Z  Comment  2Vv-BfVoq4g   \n",
       "1  Ugx91N6QKBVsR24qOH94AaABAg  2018-12-08T02:31:02.000Z  Comment  2Vv-BfVoq4g   \n",
       "2  UgzG83e-1TszyKCMO8F4AaABAg  2018-12-08T02:28:16.000Z  Comment  2Vv-BfVoq4g   \n",
       "3  UgydHSuRFNFux7vGSQ94AaABAg  2018-12-08T02:20:23.000Z  Comment  2Vv-BfVoq4g   \n",
       "4  UgwTYwXgN9KGAB7WIaN4AaABAg  2018-12-08T02:13:49.000Z  Comment  2Vv-BfVoq4g   \n",
       "\n",
       "                                    videoTitle          FNAME  \\\n",
       "0  Ed Sheeran - Perfect (Official Music Video)  EdSheeran.csv   \n",
       "1  Ed Sheeran - Perfect (Official Music Video)  EdSheeran.csv   \n",
       "2  Ed Sheeran - Perfect (Official Music Video)  EdSheeran.csv   \n",
       "3  Ed Sheeran - Perfect (Official Music Video)  EdSheeran.csv   \n",
       "4  Ed Sheeran - Perfect (Official Music Video)  EdSheeran.csv   \n",
       "\n",
       "                                               WORDS  \\\n",
       "0               [like, maroon, comment, ed, sheeran]   \n",
       "1                         [its, legendary, december]   \n",
       "2                 [feelings, so, deep, in, feelings]   \n",
       "3  [i, love, your, songs, seriously, i, would, li...   \n",
       "4                                      [i, love, it]   \n",
       "\n",
       "                                            SENTVECS  SENTIMENT_RF  \\\n",
       "0  [0.10038329, -0.0014675149, 0.03223283, -0.225...             0   \n",
       "1  [-0.008494277, -0.008857365, -0.06353382, -0.0...             1   \n",
       "2  [0.23715904, 0.11488962, 0.0027810452, 0.22044...             1   \n",
       "3  [0.79949605, 0.7708359, 0.24607134, -0.2334915...             1   \n",
       "4  [0.057383023, 0.14928776, 0.007573689, 0.01369...             1   \n",
       "\n",
       "   SENTIMENT_KN  \n",
       "0             0  \n",
       "1             1  \n",
       "2             1  \n",
       "3             1  \n",
       "4             1  "
      ]
     },
     "execution_count": 26,
     "metadata": {},
     "output_type": "execute_result"
    }
   ],
   "source": [
    "comments.head(5)"
   ]
  },
  {
   "cell_type": "code",
   "execution_count": 27,
   "metadata": {
    "collapsed": true
   },
   "outputs": [],
   "source": [
    "out_df = comments[['Comment','CommentID', 'CreateTimeStamp','Type', 'videoID', 'videoTitle', 'FNAME','SENTIMENT_RF','SENTIMENT_KN']]"
   ]
  },
  {
   "cell_type": "code",
   "execution_count": 28,
   "metadata": {},
   "outputs": [
    {
     "data": {
      "text/html": [
       "<div>\n",
       "<style>\n",
       "    .dataframe thead tr:only-child th {\n",
       "        text-align: right;\n",
       "    }\n",
       "\n",
       "    .dataframe thead th {\n",
       "        text-align: left;\n",
       "    }\n",
       "\n",
       "    .dataframe tbody tr th {\n",
       "        vertical-align: top;\n",
       "    }\n",
       "</style>\n",
       "<table border=\"1\" class=\"dataframe\">\n",
       "  <thead>\n",
       "    <tr style=\"text-align: right;\">\n",
       "      <th></th>\n",
       "      <th>Comment</th>\n",
       "      <th>CommentID</th>\n",
       "      <th>CreateTimeStamp</th>\n",
       "      <th>Type</th>\n",
       "      <th>videoID</th>\n",
       "      <th>videoTitle</th>\n",
       "      <th>FNAME</th>\n",
       "      <th>SENTIMENT_RF</th>\n",
       "      <th>SENTIMENT_KN</th>\n",
       "    </tr>\n",
       "  </thead>\n",
       "  <tbody>\n",
       "    <tr>\n",
       "      <th>0</th>\n",
       "      <td>Like maroon Comment ed sheeran</td>\n",
       "      <td>UgxD46CBoJVhQCAibLp4AaABAg</td>\n",
       "      <td>2018-12-08T02:32:48.000Z</td>\n",
       "      <td>Comment</td>\n",
       "      <td>2Vv-BfVoq4g</td>\n",
       "      <td>Ed Sheeran - Perfect (Official Music Video)</td>\n",
       "      <td>EdSheeran.csv</td>\n",
       "      <td>0</td>\n",
       "      <td>0</td>\n",
       "    </tr>\n",
       "    <tr>\n",
       "      <th>1</th>\n",
       "      <td>Its Legendary December</td>\n",
       "      <td>Ugx91N6QKBVsR24qOH94AaABAg</td>\n",
       "      <td>2018-12-08T02:31:02.000Z</td>\n",
       "      <td>Comment</td>\n",
       "      <td>2Vv-BfVoq4g</td>\n",
       "      <td>Ed Sheeran - Perfect (Official Music Video)</td>\n",
       "      <td>EdSheeran.csv</td>\n",
       "      <td>1</td>\n",
       "      <td>1</td>\n",
       "    </tr>\n",
       "    <tr>\n",
       "      <th>2</th>\n",
       "      <td>Feelings so deep in feelings</td>\n",
       "      <td>UgzG83e-1TszyKCMO8F4AaABAg</td>\n",
       "      <td>2018-12-08T02:28:16.000Z</td>\n",
       "      <td>Comment</td>\n",
       "      <td>2Vv-BfVoq4g</td>\n",
       "      <td>Ed Sheeran - Perfect (Official Music Video)</td>\n",
       "      <td>EdSheeran.csv</td>\n",
       "      <td>1</td>\n",
       "      <td>1</td>\n",
       "    </tr>\n",
       "    <tr>\n",
       "      <th>3</th>\n",
       "      <td>I love your songs seriously I would like to me...</td>\n",
       "      <td>UgydHSuRFNFux7vGSQ94AaABAg</td>\n",
       "      <td>2018-12-08T02:20:23.000Z</td>\n",
       "      <td>Comment</td>\n",
       "      <td>2Vv-BfVoq4g</td>\n",
       "      <td>Ed Sheeran - Perfect (Official Music Video)</td>\n",
       "      <td>EdSheeran.csv</td>\n",
       "      <td>1</td>\n",
       "      <td>1</td>\n",
       "    </tr>\n",
       "    <tr>\n",
       "      <th>4</th>\n",
       "      <td>I love it</td>\n",
       "      <td>UgwTYwXgN9KGAB7WIaN4AaABAg</td>\n",
       "      <td>2018-12-08T02:13:49.000Z</td>\n",
       "      <td>Comment</td>\n",
       "      <td>2Vv-BfVoq4g</td>\n",
       "      <td>Ed Sheeran - Perfect (Official Music Video)</td>\n",
       "      <td>EdSheeran.csv</td>\n",
       "      <td>1</td>\n",
       "      <td>1</td>\n",
       "    </tr>\n",
       "  </tbody>\n",
       "</table>\n",
       "</div>"
      ],
      "text/plain": [
       "                                             Comment  \\\n",
       "0                     Like maroon Comment ed sheeran   \n",
       "1                             Its Legendary December   \n",
       "2                       Feelings so deep in feelings   \n",
       "3  I love your songs seriously I would like to me...   \n",
       "4                                          I love it   \n",
       "\n",
       "                    CommentID           CreateTimeStamp     Type      videoID  \\\n",
       "0  UgxD46CBoJVhQCAibLp4AaABAg  2018-12-08T02:32:48.000Z  Comment  2Vv-BfVoq4g   \n",
       "1  Ugx91N6QKBVsR24qOH94AaABAg  2018-12-08T02:31:02.000Z  Comment  2Vv-BfVoq4g   \n",
       "2  UgzG83e-1TszyKCMO8F4AaABAg  2018-12-08T02:28:16.000Z  Comment  2Vv-BfVoq4g   \n",
       "3  UgydHSuRFNFux7vGSQ94AaABAg  2018-12-08T02:20:23.000Z  Comment  2Vv-BfVoq4g   \n",
       "4  UgwTYwXgN9KGAB7WIaN4AaABAg  2018-12-08T02:13:49.000Z  Comment  2Vv-BfVoq4g   \n",
       "\n",
       "                                    videoTitle          FNAME  SENTIMENT_RF  \\\n",
       "0  Ed Sheeran - Perfect (Official Music Video)  EdSheeran.csv             0   \n",
       "1  Ed Sheeran - Perfect (Official Music Video)  EdSheeran.csv             1   \n",
       "2  Ed Sheeran - Perfect (Official Music Video)  EdSheeran.csv             1   \n",
       "3  Ed Sheeran - Perfect (Official Music Video)  EdSheeran.csv             1   \n",
       "4  Ed Sheeran - Perfect (Official Music Video)  EdSheeran.csv             1   \n",
       "\n",
       "   SENTIMENT_KN  \n",
       "0             0  \n",
       "1             1  \n",
       "2             1  \n",
       "3             1  \n",
       "4             1  "
      ]
     },
     "execution_count": 28,
     "metadata": {},
     "output_type": "execute_result"
    }
   ],
   "source": [
    "out_df.head(5)"
   ]
  },
  {
   "cell_type": "code",
   "execution_count": 29,
   "metadata": {
    "collapsed": true
   },
   "outputs": [],
   "source": [
    "out_file_name = '../outdata/video_comments_analysis_sentiments.csv'\n",
    "out_df.to_csv(out_file_name, sep='\\t', index=False)"
   ]
  },
  {
   "cell_type": "code",
   "execution_count": 41,
   "metadata": {},
   "outputs": [
    {
     "name": "stdout",
     "output_type": "stream",
     "text": [
      "****End of script****\n"
     ]
    }
   ],
   "source": [
    "print('****End of script****')"
   ]
  },
  {
   "cell_type": "code",
   "execution_count": null,
   "metadata": {
    "collapsed": true
   },
   "outputs": [],
   "source": []
  }
 ],
 "metadata": {
  "kernelspec": {
   "display_name": "Python 3",
   "language": "python",
   "name": "python3"
  },
  "language_info": {
   "codemirror_mode": {
    "name": "ipython",
    "version": 3
   },
   "file_extension": ".py",
   "mimetype": "text/x-python",
   "name": "python",
   "nbconvert_exporter": "python",
   "pygments_lexer": "ipython3",
   "version": "3.6.2"
  }
 },
 "nbformat": 4,
 "nbformat_minor": 2
}
